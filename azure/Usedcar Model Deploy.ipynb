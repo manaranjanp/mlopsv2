{
  "cells": [
    {
      "cell_type": "code",
      "source": [
        "!pip install -U scikit-learn==0.24"
      ],
      "outputs": [
        {
          "output_type": "stream",
          "name": "stdout",
          "text": "Requirement already up-to-date: scikit-learn==0.24 in /anaconda/envs/azureml_py36/lib/python3.6/site-packages (0.24.0)\r\nRequirement already satisfied, skipping upgrade: numpy>=1.13.3 in /anaconda/envs/azureml_py36/lib/python3.6/site-packages (from scikit-learn==0.24) (1.18.5)\r\nRequirement already satisfied, skipping upgrade: scipy>=0.19.1 in /anaconda/envs/azureml_py36/lib/python3.6/site-packages (from scikit-learn==0.24) (1.5.2)\r\nRequirement already satisfied, skipping upgrade: joblib>=0.11 in /anaconda/envs/azureml_py36/lib/python3.6/site-packages (from scikit-learn==0.24) (0.14.1)\r\nRequirement already satisfied, skipping upgrade: threadpoolctl>=2.0.0 in /anaconda/envs/azureml_py36/lib/python3.6/site-packages (from scikit-learn==0.24) (2.1.0)\r\n"
        }
      ],
      "execution_count": 18,
      "metadata": {
        "jupyter": {
          "source_hidden": false,
          "outputs_hidden": false
        },
        "nteract": {
          "transient": {
            "deleting": false
          }
        }
      }
    },
    {
      "cell_type": "markdown",
      "source": [
        "### References:\n",
        "\n",
        "https://docs.microsoft.com/en-us/azure/machine-learning/how-to-deploy-advanced-entry-script"
      ],
      "metadata": {
        "nteract": {
          "transient": {
            "deleting": false
          }
        }
      }
    },
    {
      "cell_type": "code",
      "source": [
        "import sklearn\n",
        "import pandas\n",
        "from azureml.core import Model\n",
        "from azureml.core.workspace import Workspace\n",
        "from azureml.core.resource_configuration import ResourceConfiguration\n",
        "\n",
        "ws = Workspace.from_config()"
      ],
      "outputs": [],
      "execution_count": 30,
      "metadata": {
        "gather": {
          "logged": 1636791833902
        }
      }
    },
    {
      "cell_type": "code",
      "source": [
        "model = Model(workspace=ws, name=\"usedcarprice_gbm\")"
      ],
      "outputs": [],
      "execution_count": 20,
      "metadata": {
        "jupyter": {
          "source_hidden": false,
          "outputs_hidden": false
        },
        "nteract": {
          "transient": {
            "deleting": false
          }
        },
        "gather": {
          "logged": 1636791557476
        }
      }
    },
    {
      "cell_type": "code",
      "source": [
        "model"
      ],
      "outputs": [
        {
          "output_type": "execute_result",
          "execution_count": 21,
          "data": {
            "text/plain": "Model(workspace=Workspace.create(name='mlops2021', subscription_id='fbb085eb-3abd-4384-93aa-608f78277ad2', resource_group='mlopsdemo'), name=usedcarprice_gbm, id=usedcarprice_gbm:2, version=2, tags={'area': 'usedcar', 'type': 'regression'}, properties={})"
          },
          "metadata": {}
        }
      ],
      "execution_count": 21,
      "metadata": {
        "jupyter": {
          "source_hidden": false,
          "outputs_hidden": false
        },
        "nteract": {
          "transient": {
            "deleting": false
          }
        },
        "gather": {
          "logged": 1636791557677
        }
      }
    },
    {
      "cell_type": "code",
      "source": [
        "import sklearn\n",
        "\n",
        "from azureml.core.environment import Environment\n",
        "\n",
        "environment = Environment(\"LocalDeploy\")\n",
        "environment.python.conda_dependencies.add_pip_package(\"inference-schema[numpy-support]\")\n",
        "environment.python.conda_dependencies.add_pip_package(\"joblib\")\n",
        "environment.python.conda_dependencies.add_pip_package(\"scikit-learn=={}\".format(sklearn.__version__))\n",
        "environment.python.conda_dependencies.add_pip_package(\"pandas=={}\".format(pandas.__version__))"
      ],
      "outputs": [],
      "execution_count": 31,
      "metadata": {
        "jupyter": {
          "source_hidden": false,
          "outputs_hidden": false
        },
        "nteract": {
          "transient": {
            "deleting": false
          }
        },
        "gather": {
          "logged": 1636791860279
        }
      }
    },
    {
      "cell_type": "code",
      "source": [
        "%%writefile score.py\n",
        "import os\n",
        "import logging\n",
        "import json\n",
        "import numpy as np\n",
        "import joblib\n",
        "import pandas as pd\n",
        "from inference_schema.schema_decorators import input_schema, output_schema\n",
        "from inference_schema.parameter_types.standard_py_parameter_type import StandardPythonParameterType\n",
        "from inference_schema.parameter_types.numpy_parameter_type import NumpyParameterType\n",
        "from inference_schema.parameter_types.pandas_parameter_type import PandasParameterType\n",
        "\n",
        "\n",
        "def init():\n",
        "    \"\"\"\n",
        "    This function is called when the container is initialized/started, typically after create/update of the deployment.\n",
        "    You can write the logic here to perform init operations like caching the model in memory\n",
        "    \"\"\"\n",
        "    global model\n",
        "    # AZUREML_MODEL_DIR is an environment variable created during deployment.\n",
        "    # It is the path to the model folder (./azureml-models/$MODEL_NAME/$VERSION)\n",
        "    model_path = os.path.join(\n",
        "        os.getenv(\"AZUREML_MODEL_DIR\"), \"carmodel.pkl\"\n",
        "    )\n",
        "    # deserialize the model file back into a sklearn model\n",
        "    model = joblib.load(model_path)\n",
        "    logging.info(\"Init complete\")\n",
        "\n",
        "\n",
        "pandas_sample_input = PandasParameterType(pd.DataFrame({ 'KM_Driven':[10],'Fuel_Type':['Petrol'],'age':[4],'Transmission':['Automatic'],'Owner_Type':['First'],'Seats':[4],'make':['maruti'],'mileage_new':[21],'engine_new':[900],'model':['swift'],'power_new':[90],'Location':['Bangalore']}))\n",
        "output_sample = np.array([5.2])\n",
        "\n",
        "@input_schema('data', pandas_sample_input)\n",
        "# 'Inputs' is case sensitive\n",
        "@output_schema(NumpyParameterType(output_sample))\n",
        "\n",
        "def run(data):\n",
        "    \"\"\"\n",
        "    This function is called for every invocation of the endpoint to perform the actual scoring/prediction.\n",
        "    In the example we extract the data from the json input and call the scikit-learn model's predict()\n",
        "    method and return the result back\n",
        "    \"\"\"\n",
        "    logging.info(\"Request received\")\n",
        "    result = model.predict(data)\n",
        "    logging.info(\"Request processed\")\n",
        "    return result.tolist()"
      ],
      "outputs": [
        {
          "output_type": "stream",
          "name": "stdout",
          "text": "Overwriting score.py\n"
        }
      ],
      "execution_count": 32,
      "metadata": {
        "jupyter": {
          "source_hidden": false,
          "outputs_hidden": false
        },
        "nteract": {
          "transient": {
            "deleting": false
          }
        }
      }
    },
    {
      "cell_type": "code",
      "source": [
        "from azureml.core.model import InferenceConfig\n",
        "\n",
        "inference_config = InferenceConfig(entry_script=\"score.py\",\n",
        "                                   environment=environment)"
      ],
      "outputs": [],
      "execution_count": 33,
      "metadata": {
        "jupyter": {
          "source_hidden": false,
          "outputs_hidden": false
        },
        "nteract": {
          "transient": {
            "deleting": false
          }
        },
        "gather": {
          "logged": 1636791863281
        }
      }
    },
    {
      "cell_type": "code",
      "source": [
        "from azureml.core.webservice import LocalWebservice\n",
        "\n",
        "service_name = 'usedcarprice-service'\n",
        "\n",
        "local_service = Model.deploy(ws, service_name, [model], inference_config)\n",
        "\n",
        "local_service.wait_for_deployment()"
      ],
      "outputs": [
        {
          "output_type": "stream",
          "name": "stdout",
          "text": "ACI service creation operation finished, operation \"Succeeded\"\n"
        }
      ],
      "execution_count": 35,
      "metadata": {
        "jupyter": {
          "source_hidden": false,
          "outputs_hidden": false
        },
        "nteract": {
          "transient": {
            "deleting": false
          }
        },
        "gather": {
          "logged": 1636792325789
        }
      }
    },
    {
      "cell_type": "code",
      "source": [
        "import json\n",
        "\n",
        "data = [{\"KM_Driven\": 10, \"Fuel_Type\": \"Petrol\", \"age\": 4, \"Transmission\": \"Automatic\", \"Owner_Type\": \"First\", \"Seats\": 4, \"make\": \"maruti\", \"mileage_new\": 21, \"engine_new\": 900, \"model\": \"swift\", \"power_new\": 90, \"Location\": \"Bangalore\"}]\n",
        "\n",
        "input_payload = json.dumps({\n",
        "    \"data\": data\n",
        "})\n",
        "\n",
        "output = local_service.run(input_payload)\n",
        "\n",
        "print(output)"
      ],
      "outputs": [
        {
          "output_type": "stream",
          "name": "stdout",
          "text": "[7.385208175899092]\n"
        }
      ],
      "execution_count": 38,
      "metadata": {
        "jupyter": {
          "source_hidden": false,
          "outputs_hidden": false
        },
        "nteract": {
          "transient": {
            "deleting": false
          }
        },
        "gather": {
          "logged": 1636792732525
        }
      }
    },
    {
      "cell_type": "code",
      "source": [],
      "outputs": [],
      "execution_count": null,
      "metadata": {
        "jupyter": {
          "source_hidden": false,
          "outputs_hidden": false
        },
        "nteract": {
          "transient": {
            "deleting": false
          }
        }
      }
    }
  ],
  "metadata": {
    "kernelspec": {
      "name": "python3-azureml",
      "language": "python",
      "display_name": "Python 3.6 - AzureML"
    },
    "language_info": {
      "name": "python",
      "version": "3.6.9",
      "mimetype": "text/x-python",
      "codemirror_mode": {
        "name": "ipython",
        "version": 3
      },
      "pygments_lexer": "ipython3",
      "nbconvert_exporter": "python",
      "file_extension": ".py"
    },
    "kernel_info": {
      "name": "python3-azureml"
    },
    "microsoft": {
      "host": {
        "AzureML": {
          "notebookHasBeenCompleted": true
        }
      }
    },
    "nteract": {
      "version": "nteract-front-end@1.0.0"
    }
  },
  "nbformat": 4,
  "nbformat_minor": 2
}