{
 "cells": [
  {
   "cell_type": "code",
   "execution_count": 16,
   "metadata": {},
   "outputs": [
    {
     "name": "stdout",
     "output_type": "stream",
     "text": [
      "[{'KM_Driven': 10, 'Fuel_Type': 'Petrol', 'age': 4, 'Transmission': 'Automatic', 'Owner_Type': 'First', 'Seats': 4, 'make': 'maruti', 'mileage_new': 21, 'engine_new': 900, 'model': 'swift', 'power_new': 90, 'Location': 'Bangalore'}]\n",
      "[7.385208175899092]\n"
     ]
    }
   ],
   "source": [
    "import requests\n",
    "import json\n",
    "\n",
    "uri = \"http://351c5af4-006f-432e-9db0-d7229c541801.eastus.azurecontainer.io/score\"\n",
    "headers = {\"Content-Type\": \"application/json\"}\n",
    "\n",
    "data = [{\"KM_Driven\": 10, \"Fuel_Type\": \"Petrol\", \"age\": 4, \"Transmission\": \"Automatic\", \"Owner_Type\": \"First\", \"Seats\": 4, \"make\": \"maruti\", \"mileage_new\": 21, \"engine_new\": 900, \"model\": \"swift\", \"power_new\": 90, \"Location\": \"Bangalore\"}]\n",
    "\n",
    "input_payload = json.dumps({\n",
    "    \"data\": data\n",
    "})\n",
    "\n",
    "print(data)\n",
    "response = requests.post(uri, data=input_payload, headers=headers)\n",
    "print(response.json())"
   ]
  },
  {
   "cell_type": "code",
   "execution_count": null,
   "metadata": {},
   "outputs": [],
   "source": [
    "{\"KM_Driven\":10,\"Fuel_Type\":\"Petrol\",\"age\":4,\"Transmission\":\"Automatic\",\"Owner_Type\":\"First\",\"Seats\":4,\"make\":\"maruti\",\"mileage_new\":21,\"engine_new\":900,\"model\":\"swift\",\"power_new\":90,\"Location\":\"Bangalore\"}"
   ]
  }
 ],
 "metadata": {
  "kernelspec": {
   "display_name": "Python 3",
   "language": "python",
   "name": "python3"
  },
  "language_info": {
   "codemirror_mode": {
    "name": "ipython",
    "version": 3
   },
   "file_extension": ".py",
   "mimetype": "text/x-python",
   "name": "python",
   "nbconvert_exporter": "python",
   "pygments_lexer": "ipython3",
   "version": "3.8.3"
  }
 },
 "nbformat": 4,
 "nbformat_minor": 4
}
