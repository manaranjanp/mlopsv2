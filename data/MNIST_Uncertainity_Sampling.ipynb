{
  "cells": [
    {
      "cell_type": "markdown",
      "metadata": {
        "id": "bqcfaxEzGiZ0"
      },
      "source": [
        "Keras models in modAL workflows\n",
        "=============================\n",
        "\n",
        "Thanks for the scikit-learn API of Keras, you can seamlessly integrate Keras models into your modAL workflow. In this tutorial, we shall quickly introduce how to use the scikit-learn API of Keras and we are going to see how to do active learning with it. More details on the Keras scikit-learn API [can be found here](https://keras.io/scikit-learn-api/).\n",
        "\n",
        "The executable script for this example can be [found here](https://github.com/cosmic-cortex/modAL/blob/master/examples/keras_integration.py)!"
      ]
    },
    {
      "cell_type": "markdown",
      "metadata": {
        "id": "qsBcP50uGiZ2"
      },
      "source": [
        "Keras' scikit-learn API\n",
        "-----------------------\n",
        "\n",
        "By default, a Keras model's interface differs from what is used for scikit-learn estimators. However, with the use of its scikit-learn wrapper, it is possible to adapt your model."
      ]
    },
    {
      "cell_type": "code",
      "source": [
        "!pip install modal"
      ],
      "metadata": {
        "colab": {
          "base_uri": "https://localhost:8080/"
        },
        "id": "GrxYXJNIG6uW",
        "outputId": "a989bd5c-3f1a-4e36-999e-1c6a8e034de0"
      },
      "execution_count": 1,
      "outputs": [
        {
          "output_type": "stream",
          "name": "stdout",
          "text": [
            "Looking in indexes: https://pypi.org/simple, https://us-python.pkg.dev/colab-wheels/public/simple/\n",
            "Requirement already satisfied: modal in /usr/local/lib/python3.9/dist-packages (0.4.1)\n",
            "Requirement already satisfied: scikit-learn>=0.18 in /usr/local/lib/python3.9/dist-packages (from modal) (1.2.2)\n",
            "Requirement already satisfied: scipy>=0.18 in /usr/local/lib/python3.9/dist-packages (from modal) (1.10.1)\n",
            "Requirement already satisfied: numpy>=1.13 in /usr/local/lib/python3.9/dist-packages (from modal) (1.22.4)\n",
            "Requirement already satisfied: pandas>=1.1.0 in /usr/local/lib/python3.9/dist-packages (from modal) (1.4.4)\n",
            "Requirement already satisfied: pytz>=2020.1 in /usr/local/lib/python3.9/dist-packages (from pandas>=1.1.0->modal) (2022.7.1)\n",
            "Requirement already satisfied: python-dateutil>=2.8.1 in /usr/local/lib/python3.9/dist-packages (from pandas>=1.1.0->modal) (2.8.2)\n",
            "Requirement already satisfied: joblib>=1.1.1 in /usr/local/lib/python3.9/dist-packages (from scikit-learn>=0.18->modal) (1.1.1)\n",
            "Requirement already satisfied: threadpoolctl>=2.0.0 in /usr/local/lib/python3.9/dist-packages (from scikit-learn>=0.18->modal) (3.1.0)\n",
            "Requirement already satisfied: six>=1.5 in /usr/local/lib/python3.9/dist-packages (from python-dateutil>=2.8.1->pandas>=1.1.0->modal) (1.15.0)\n"
          ]
        }
      ]
    },
    {
      "cell_type": "code",
      "source": [
        "!pip install scikeras"
      ],
      "metadata": {
        "colab": {
          "base_uri": "https://localhost:8080/"
        },
        "id": "YpL2bUGcI_t0",
        "outputId": "175919a3-db0b-42e6-bce8-ce52c4601ed3"
      },
      "execution_count": 2,
      "outputs": [
        {
          "output_type": "stream",
          "name": "stdout",
          "text": [
            "Looking in indexes: https://pypi.org/simple, https://us-python.pkg.dev/colab-wheels/public/simple/\n",
            "Requirement already satisfied: scikeras in /usr/local/lib/python3.9/dist-packages (0.10.0)\n",
            "Requirement already satisfied: packaging>=0.21 in /usr/local/lib/python3.9/dist-packages (from scikeras) (23.0)\n",
            "Requirement already satisfied: scikit-learn>=1.0.0 in /usr/local/lib/python3.9/dist-packages (from scikeras) (1.2.2)\n",
            "Requirement already satisfied: numpy>=1.17.3 in /usr/local/lib/python3.9/dist-packages (from scikit-learn>=1.0.0->scikeras) (1.22.4)\n",
            "Requirement already satisfied: scipy>=1.3.2 in /usr/local/lib/python3.9/dist-packages (from scikit-learn>=1.0.0->scikeras) (1.10.1)\n",
            "Requirement already satisfied: threadpoolctl>=2.0.0 in /usr/local/lib/python3.9/dist-packages (from scikit-learn>=1.0.0->scikeras) (3.1.0)\n",
            "Requirement already satisfied: joblib>=1.1.1 in /usr/local/lib/python3.9/dist-packages (from scikit-learn>=1.0.0->scikeras) (1.1.1)\n"
          ]
        }
      ]
    },
    {
      "cell_type": "code",
      "execution_count": 9,
      "metadata": {
        "id": "UQS3knTgGiZ5"
      },
      "outputs": [],
      "source": [
        "import numpy as np\n",
        "import keras\n",
        "from keras.datasets import mnist\n",
        "from keras.models import Sequential\n",
        "from keras.layers import Dense, Dropout, Flatten, Conv2D, MaxPooling2D\n",
        "from scikeras.wrappers import KerasClassifier\n",
        "\n",
        "# read training data\n",
        "(X_train, y_train), (X_test, y_test) = mnist.load_data()\n",
        "X_train = X_train.reshape(60000, 28, 28, 1).astype('float32') / 255\n",
        "X_test = X_test.reshape(10000, 28, 28, 1).astype('float32') / 255\n",
        "y_train = keras.utils.to_categorical(y_train, 10)\n",
        "y_test = keras.utils.to_categorical(y_test, 10)\n",
        "\n",
        "# assemble initial data\n",
        "n_initial = 100\n",
        "initial_idx = np.random.choice(range(len(X_train)), size=n_initial, replace=False)\n",
        "X_initial = X_train[initial_idx]\n",
        "y_initial = y_train[initial_idx]\n",
        "\n",
        "# generate the pool\n",
        "# remove the initial data from the training dataset\n",
        "X_pool = np.delete(X_train, initial_idx, axis=0)[:5000]\n",
        "y_pool = np.delete(y_train, initial_idx, axis=0)[:5000]"
      ]
    },
    {
      "cell_type": "code",
      "execution_count": 10,
      "metadata": {
        "id": "1G2zkWQ0GiZ3"
      },
      "outputs": [],
      "source": [
        "# build function for the Keras' scikit-learn API\n",
        "def get_model():\n",
        "    \"\"\"\n",
        "    This function compiles and returns a Keras model.\n",
        "    Should be passed to KerasClassifier in the Keras scikit-learn API.\n",
        "    \"\"\"\n",
        "\n",
        "    model = Sequential()\n",
        "    model.add(Conv2D(32, kernel_size=(3, 3), activation='relu', input_shape=(28, 28, 1)))\n",
        "    model.add(Conv2D(64, (3, 3), activation='relu'))\n",
        "    model.add(MaxPooling2D(pool_size=(2, 2)))\n",
        "    model.add(Dropout(0.25))\n",
        "    model.add(Flatten())\n",
        "    model.add(Dense(128, activation='relu'))\n",
        "    model.add(Dropout(0.5))\n",
        "    model.add(Dense(10, activation='softmax'))\n",
        "\n",
        "    return model"
      ]
    },
    {
      "cell_type": "markdown",
      "metadata": {
        "id": "cNuYLfY4GiZ4"
      },
      "source": [
        "For our purposes, the ``classifier`` which we will initialize now acts just like any scikit-learn estimator."
      ]
    },
    {
      "cell_type": "code",
      "execution_count": 11,
      "metadata": {
        "id": "DpbJApLmGiZ4"
      },
      "outputs": [],
      "source": [
        "# create the classifier\n",
        "classifier = KerasClassifier(get_model,\n",
        "                             loss=\"categorical_crossentropy\",\n",
        "                             optimizer = 'adam',\n",
        "                             metrics='accuracy')"
      ]
    },
    {
      "cell_type": "markdown",
      "metadata": {
        "id": "HCrW0ng_GiZ5"
      },
      "source": [
        "Active learning with Keras\n",
        "---------------------------------------\n",
        "\n",
        "In this example, we are going to use the famous MNIST dataset, which is available as a built-in for Keras."
      ]
    },
    {
      "cell_type": "markdown",
      "metadata": {
        "id": "FnypGYp1GiZ5"
      },
      "source": [
        "Active learning with data and classifier ready is as easy as always. Because training is *very* expensive in large neural networks, this time we are going to query the best 200 instances each time we measure the uncertainty of the pool."
      ]
    },
    {
      "cell_type": "code",
      "execution_count": 12,
      "metadata": {
        "colab": {
          "base_uri": "https://localhost:8080/"
        },
        "id": "OoArPABBGiZ6",
        "outputId": "77cdd456-4024-4b59-b66d-8a5461b72870"
      },
      "outputs": [
        {
          "output_type": "stream",
          "name": "stdout",
          "text": [
            "4/4 [==============================] - 1s 50ms/step - loss: 2.2681 - accuracy: 0.1900\n"
          ]
        }
      ],
      "source": [
        "from modAL.models import ActiveLearner\n",
        "\n",
        "# initialize ActiveLearner\n",
        "learner = ActiveLearner(\n",
        "    estimator=classifier,\n",
        "    X_training=X_initial, y_training=y_initial,\n",
        "    verbose=1\n",
        ")"
      ]
    },
    {
      "cell_type": "code",
      "source": [
        "learner.score(X_test, y_test)"
      ],
      "metadata": {
        "colab": {
          "base_uri": "https://localhost:8080/"
        },
        "id": "owKEvnf9OJnT",
        "outputId": "cd28b5fc-09e9-41ce-93a2-f8ca373da1b9"
      },
      "execution_count": 13,
      "outputs": [
        {
          "output_type": "stream",
          "name": "stdout",
          "text": [
            "313/313 [==============================] - 6s 19ms/step\n"
          ]
        },
        {
          "output_type": "execute_result",
          "data": {
            "text/plain": [
              "0.2996"
            ]
          },
          "metadata": {},
          "execution_count": 13
        }
      ]
    },
    {
      "cell_type": "markdown",
      "metadata": {
        "id": "2EHnZMQIGiZ6"
      },
      "source": [
        "To make sure that you train only on newly queried labels, pass ``only_new=True`` to the ``.teach()`` method of the learner."
      ]
    },
    {
      "cell_type": "code",
      "execution_count": 14,
      "metadata": {
        "colab": {
          "base_uri": "https://localhost:8080/"
        },
        "id": "l_Fg9U7qGiZ6",
        "outputId": "c9ea5d7f-a6e0-411a-9163-e5826cf093c1"
      },
      "outputs": [
        {
          "output_type": "stream",
          "name": "stdout",
          "text": [
            "Query no. 1\n",
            "7/7 [==============================] - 1s 59ms/step - loss: 2.1584 - accuracy: 0.2650\n",
            "313/313 [==============================] - 6s 19ms/step\n",
            "Iteration: 0 - Test Score: 0.2241\n",
            "Query no. 2\n",
            "10/10 [==============================] - 2s 64ms/step - loss: 2.0013 - accuracy: 0.3700\n",
            "313/313 [==============================] - 5s 17ms/step\n",
            "Iteration: 1 - Test Score: 0.3396\n",
            "Query no. 3\n",
            "13/13 [==============================] - 2s 63ms/step - loss: 1.8075 - accuracy: 0.4650\n",
            "313/313 [==============================] - 6s 18ms/step\n",
            "Iteration: 2 - Test Score: 0.5685\n",
            "Query no. 4\n",
            "16/16 [==============================] - 2s 64ms/step - loss: 1.7764 - accuracy: 0.4240\n",
            "313/313 [==============================] - 6s 19ms/step\n",
            "Iteration: 3 - Test Score: 0.7088\n",
            "Query no. 5\n",
            "19/19 [==============================] - 2s 65ms/step - loss: 1.8153 - accuracy: 0.3867\n",
            "313/313 [==============================] - 6s 19ms/step\n",
            "Iteration: 4 - Test Score: 0.6919\n",
            "Query no. 6\n",
            "22/22 [==============================] - 2s 67ms/step - loss: 1.8305 - accuracy: 0.3914\n",
            "313/313 [==============================] - 6s 19ms/step\n",
            "Iteration: 5 - Test Score: 0.7554\n",
            "Query no. 7\n",
            "25/25 [==============================] - 3s 65ms/step - loss: 1.8099 - accuracy: 0.3762\n",
            "313/313 [==============================] - 6s 19ms/step\n",
            "Iteration: 6 - Test Score: 0.7723\n",
            "Query no. 8\n",
            "29/29 [==============================] - 3s 88ms/step - loss: 1.6909 - accuracy: 0.4100\n",
            "313/313 [==============================] - 5s 17ms/step\n",
            "Iteration: 7 - Test Score: 0.8077\n",
            "Query no. 9\n",
            "32/32 [==============================] - 3s 69ms/step - loss: 1.8219 - accuracy: 0.3860\n",
            "313/313 [==============================] - 6s 18ms/step\n",
            "Iteration: 8 - Test Score: 0.8098\n",
            "Query no. 10\n",
            "35/35 [==============================] - 3s 64ms/step - loss: 1.7758 - accuracy: 0.3927\n",
            "313/313 [==============================] - 5s 17ms/step\n",
            "Iteration: 9 - Test Score: 0.8536\n"
          ]
        }
      ],
      "source": [
        "# the active learning loop\n",
        "n_queries = 10\n",
        "for idx in range(n_queries):\n",
        "    print('Query no. %d' % (idx + 1))\n",
        "    query_idx, query_instance = learner.query(X_pool, n_instances=100, verbose=0)\n",
        "    learner.teach(\n",
        "        X=X_pool[query_idx], y=y_pool[query_idx],\n",
        "        verbose=1\n",
        "    )\n",
        "    # remove queried instance from pool\n",
        "    X_pool = np.delete(X_pool, query_idx, axis=0)\n",
        "    y_pool = np.delete(y_pool, query_idx, axis=0)\n",
        "\n",
        "    print(f\"Iteration: {idx} - Test Score: {learner.score(X_test, y_test)}\")"
      ]
    },
    {
      "cell_type": "code",
      "source": [],
      "metadata": {
        "id": "Y9nL18hbHJPs"
      },
      "execution_count": null,
      "outputs": []
    }
  ],
  "metadata": {
    "kernelspec": {
      "display_name": "Python 3",
      "language": "python",
      "name": "python3"
    },
    "language_info": {
      "codemirror_mode": {
        "name": "ipython",
        "version": 3
      },
      "file_extension": ".py",
      "mimetype": "text/x-python",
      "name": "python",
      "nbconvert_exporter": "python",
      "pygments_lexer": "ipython3",
      "version": "3.6.5"
    },
    "colab": {
      "provenance": []
    }
  },
  "nbformat": 4,
  "nbformat_minor": 0
}