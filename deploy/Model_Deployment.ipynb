{
 "cells": [
  {
   "cell_type": "markdown",
   "metadata": {
    "id": "3p-vMcsWX7ZK"
   },
   "source": [
    "## Deploying the model as a service "
   ]
  },
  {
   "cell_type": "code",
   "execution_count": 1,
   "metadata": {},
   "outputs": [],
   "source": [
    "import warnings\n",
    "warnings.filterwarnings(\"ignore\")"
   ]
  },
  {
   "cell_type": "code",
   "execution_count": 2,
   "metadata": {
    "colab": {
     "base_uri": "https://localhost:8080/"
    },
    "id": "cYCpJOvvDE7E",
    "outputId": "18c36a1e-7bb7-48b6-c569-dadac75ba67d"
   },
   "outputs": [],
   "source": [
    "#!pip install wandb"
   ]
  },
  {
   "cell_type": "code",
   "execution_count": 3,
   "metadata": {
    "colab": {
     "base_uri": "https://localhost:8080/"
    },
    "id": "S9xNz5mMCfAT",
    "outputId": "ba269f8a-e25f-4270-f0f5-cce032f8fb0b"
   },
   "outputs": [],
   "source": [
    "#!pip install bentoml"
   ]
  },
  {
   "cell_type": "markdown",
   "metadata": {},
   "source": [
    "#### Notes:\n",
    "\n",
    "- Ensure that you have the same version of sklearn as the version on which the pickle file was created.\n",
    "\n",
    "- Check the sklearn version of the Google Colab platform\n",
    "- Check the sklearn version here as below\n",
    "\n",
    "Otherwise, update the sklearn version using\n",
    "\n",
    "<code> pip install -U scikit-learn==1.0.2 </code>\n",
    "\n",
    "Assuming, 1.0.2 is the version sklearn using which the pickle file was created. Change the version number accordingly after checking the version on Google Colab."
   ]
  },
  {
   "cell_type": "code",
   "execution_count": 4,
   "metadata": {},
   "outputs": [
    {
     "data": {
      "text/plain": [
       "'1.0.2'"
      ]
     },
     "execution_count": 4,
     "metadata": {},
     "output_type": "execute_result"
    }
   ],
   "source": [
    "import sklearn\n",
    "\n",
    "sklearn.__version__"
   ]
  },
  {
   "cell_type": "code",
   "execution_count": null,
   "metadata": {},
   "outputs": [],
   "source": []
  },
  {
   "cell_type": "code",
   "execution_count": 5,
   "metadata": {
    "id": "w8TJUoD9Df6k"
   },
   "outputs": [],
   "source": [
    "import os\n",
    "import wandb\n",
    "import pandas as pd\n",
    "import numpy as np"
   ]
  },
  {
   "cell_type": "markdown",
   "metadata": {
    "id": "UKzPB1OgDQmf"
   },
   "source": [
    "## Download the model from Weights and Biases\n",
    "\n",
    "The model is stored under the following information\n",
    "\n",
    "- **Project name :** 'mlops_usedcar'\n",
    "- **Path to the model:** 'awesomestats/mlops_usedcar/Linear_Model_UsedCar:v2'\n",
    "\n",
    "**Note**:\n",
    "\n",
    "- Replace the key with your key of weights&biases (wandb)\n"
   ]
  },
  {
   "cell_type": "code",
   "execution_count": 6,
   "metadata": {
    "id": "7PJE9ndIDO1f"
   },
   "outputs": [],
   "source": [
    "import os\n",
    "os.environ[\"WANDB_API_KEY\"] = \"dc797f600c763f09dc0ffc8637c8bcdf5bc1294b\""
   ]
  },
  {
   "cell_type": "code",
   "execution_count": 7,
   "metadata": {
    "colab": {
     "base_uri": "https://localhost:8080/",
     "height": 125
    },
    "id": "THqh3T_ZDaf9",
    "outputId": "56825572-f827-47c2-df9b-8c6e0ed94342"
   },
   "outputs": [
    {
     "name": "stderr",
     "output_type": "stream",
     "text": [
      "\u001b[34m\u001b[1mwandb\u001b[0m: Currently logged in as: \u001b[33mawesomestats\u001b[0m. Use \u001b[1m`wandb login --relogin`\u001b[0m to force relogin\n"
     ]
    },
    {
     "data": {
      "text/html": [
       "Tracking run with wandb version 0.13.5"
      ],
      "text/plain": [
       "<IPython.core.display.HTML object>"
      ]
     },
     "metadata": {},
     "output_type": "display_data"
    },
    {
     "data": {
      "text/html": [
       "Run data is saved locally in <code>/Users/manaranjan/Documents/Work/IIMB/edx/MLOps/modeldeploy/wandb/run-20221119_100944-18wyp47t</code>"
      ],
      "text/plain": [
       "<IPython.core.display.HTML object>"
      ]
     },
     "metadata": {},
     "output_type": "display_data"
    },
    {
     "data": {
      "text/html": [
       "Syncing run <strong><a href=\"https://wandb.ai/awesomestats/mlops_usedcar/runs/18wyp47t\" target=\"_blank\">volcanic-glitter-23</a></strong> to <a href=\"https://wandb.ai/awesomestats/mlops_usedcar\" target=\"_blank\">Weights & Biases</a> (<a href=\"https://wandb.me/run\" target=\"_blank\">docs</a>)<br/>"
      ],
      "text/plain": [
       "<IPython.core.display.HTML object>"
      ]
     },
     "metadata": {},
     "output_type": "display_data"
    }
   ],
   "source": [
    "run = wandb.init(project='mlops_usedcar')"
   ]
  },
  {
   "cell_type": "code",
   "execution_count": 21,
   "metadata": {
    "colab": {
     "base_uri": "https://localhost:8080/",
     "height": 53
    },
    "id": "64-tMM6JDkPb",
    "outputId": "23b5b3cd-59c9-4834-dc29-501415d67b1f"
   },
   "outputs": [
    {
     "ename": "SyntaxError",
     "evalue": "EOL while scanning string literal (<ipython-input-21-c6d7f96897d1>, line 3)",
     "output_type": "error",
     "traceback": [
      "\u001b[0;36m  File \u001b[0;32m\"<ipython-input-21-c6d7f96897d1>\"\u001b[0;36m, line \u001b[0;32m3\u001b[0m\n\u001b[0;31m    f\"the artifact is downloaded and stored at{artifact_dir}\"\"\u001b[0m\n\u001b[0m                                                              ^\u001b[0m\n\u001b[0;31mSyntaxError\u001b[0m\u001b[0;31m:\u001b[0m EOL while scanning string literal\n"
     ]
    }
   ],
   "source": [
    "artifact = run.use_artifact('awesomestats/mlops_usedcar/Linear_Model_UsedCar:v2', type='model')\n",
    "artifact_dir = artifact.download()"
   ]
  },
  {
   "cell_type": "code",
   "execution_count": 23,
   "metadata": {},
   "outputs": [
    {
     "data": {
      "text/plain": [
       "'the artifact is downloaded and stored at ./artifacts/Linear_Model_UsedCar:v2'"
      ]
     },
     "execution_count": 23,
     "metadata": {},
     "output_type": "execute_result"
    }
   ],
   "source": [
    "f\"the artifact is downloaded and stored at {artifact_dir}\""
   ]
  },
  {
   "cell_type": "code",
   "execution_count": 9,
   "metadata": {
    "colab": {
     "base_uri": "https://localhost:8080/"
    },
    "id": "clU8tNyHDrKS",
    "outputId": "b062613b-cfde-499e-bf7f-053becab0b3a"
   },
   "outputs": [
    {
     "name": "stdout",
     "output_type": "stream",
     "text": [
      "total 24\r\n",
      "drwxr-xr-x  3 manaranjan  staff    96 Nov 16 15:10 \u001b[1m\u001b[36m.\u001b[m\u001b[m\r\n",
      "drwxr-xr-x  3 manaranjan  staff    96 Nov 16 15:10 \u001b[1m\u001b[36m..\u001b[m\u001b[m\r\n",
      "-rw-r--r--  1 manaranjan  staff  8655 Nov 16 15:10 cars.pkl\r\n"
     ]
    }
   ],
   "source": [
    "!ls -al  ./artifacts/Linear_Model_UsedCar:v2"
   ]
  },
  {
   "cell_type": "code",
   "execution_count": 10,
   "metadata": {},
   "outputs": [],
   "source": [
    "import joblib"
   ]
  },
  {
   "cell_type": "code",
   "execution_count": 11,
   "metadata": {},
   "outputs": [
    {
     "data": {
      "text/plain": [
       "'1.2.0'"
      ]
     },
     "execution_count": 11,
     "metadata": {},
     "output_type": "execute_result"
    }
   ],
   "source": [
    "joblib.__version__"
   ]
  },
  {
   "cell_type": "markdown",
   "metadata": {},
   "source": [
    "### Load the Pickel file into Memory"
   ]
  },
  {
   "cell_type": "code",
   "execution_count": 12,
   "metadata": {
    "id": "sNzbX1f7HAfG"
   },
   "outputs": [],
   "source": [
    "from joblib import load\n",
    "\n",
    "final_model = load('./artifacts/Linear_Model_UsedCar:v2/cars.pkl')"
   ]
  },
  {
   "cell_type": "markdown",
   "metadata": {
    "id": "azSTk7dIYIT8"
   },
   "source": [
    "## Creating the BentoML Model Service"
   ]
  },
  {
   "cell_type": "code",
   "execution_count": 13,
   "metadata": {
    "id": "ZjDPV-5BHZFS"
   },
   "outputs": [],
   "source": [
    "import bentoml\n",
    "from bentoml.io import JSON"
   ]
  },
  {
   "cell_type": "code",
   "execution_count": 14,
   "metadata": {
    "id": "hQYvq1BwHmpQ"
   },
   "outputs": [],
   "source": [
    "bento_model = bentoml.sklearn.save_model( \"usedcar_prediction_model\", \n",
    "                                         final_model,\n",
    "                                         signatures={\n",
    "                                            \"predict\": {\"batchable\": True, \n",
    "                                                        \"batch_dim\": 0},\n",
    "                                        })"
   ]
  },
  {
   "cell_type": "code",
   "execution_count": 19,
   "metadata": {
    "colab": {
     "base_uri": "https://localhost:8080/"
    },
    "id": "Zujo5dz8HTmz",
    "outputId": "e5510bc8-2979-4b07-ac35-28ec0eee6d42"
   },
   "outputs": [
    {
     "name": "stdout",
     "output_type": "stream",
     "text": [
      "Overwriting service.py\n"
     ]
    }
   ],
   "source": [
    "%%writefile service.py\n",
    "\n",
    "import bentoml\n",
    "import pandas as pd\n",
    "import numpy as np\n",
    "from bentoml.io import JSON\n",
    "\n",
    "bento_model = bentoml.sklearn.get(\"usedcar_prediction_model:latest\")\n",
    "\n",
    "model_runner = bento_model.to_runner()\n",
    "\n",
    "svc = bentoml.Service(\"usedcar_price_predictor\", \n",
    "                      runners=[model_runner])\n",
    "\n",
    "\n",
    "@svc.api(input=JSON(), output=JSON())\n",
    "async def predict(input_doc: str):\n",
    "        \n",
    "    df = pd.DataFrame(input_doc, index = [0])\n",
    "    \n",
    "    num_features = ['KM_Driven', 'age', 'power_new',\n",
    "                    'Seats','mileage_new', 'engine_new']    \n",
    "\n",
    "    df[num_features] = df[num_features].apply(pd.to_numeric, \n",
    "                                              errors='coerce')\n",
    "    \n",
    "    print(df.info())\n",
    "    \n",
    "    print(df.head(1))\n",
    "    \n",
    "    predictions = await model_runner.predict.async_run(df)\n",
    "    \n",
    "    return {\"ExpectedSalePrice\": np.round(predictions[0], 2)}"
   ]
  },
  {
   "cell_type": "markdown",
   "metadata": {
    "id": "i1J56W4LZy7f"
   },
   "source": [
    "## Serving the model as service\n",
    "\n",
    "### Starting the service\n",
    "\n",
    "Start the prediction service on port 5000."
   ]
  },
  {
   "cell_type": "code",
   "execution_count": 20,
   "metadata": {
    "colab": {
     "base_uri": "https://localhost:8080/"
    },
    "id": "qUjSVE5CHI4Z",
    "outputId": "186ad0f3-e649-4938-dbf1-da2759b5fde8"
   },
   "outputs": [
    {
     "name": "stdout",
     "output_type": "stream",
     "text": [
      "2022-11-19T10:16:09+0530 [INFO] [cli] Prometheus metrics for HTTP BentoServer from \"service.py:svc\" can be accessed at http://localhost:5000/metrics.\n",
      "2022-11-19T10:16:11+0530 [INFO] [cli] Starting development HTTP BentoServer from \"service.py:svc\" listening on http://0.0.0.0:5000 (Press CTRL+C to quit)\n",
      "<class 'pandas.core.frame.DataFrame'>\n",
      "Int64Index: 1 entries, 0 to 0\n",
      "Data columns (total 12 columns):\n",
      " #   Column        Non-Null Count  Dtype  \n",
      "---  ------        --------------  -----  \n",
      " 0   KM_Driven     1 non-null      float64\n",
      " 1   Fuel_Type     1 non-null      object \n",
      " 2   age           1 non-null      float64\n",
      " 3   Transmission  1 non-null      object \n",
      " 4   Owner_Type    1 non-null      object \n",
      " 5   Seats         1 non-null      float64\n",
      " 6   make          1 non-null      object \n",
      " 7   mileage_new   1 non-null      float64\n",
      " 8   engine_new    1 non-null      float64\n",
      " 9   model         1 non-null      object \n",
      " 10  power_new     1 non-null      float64\n",
      " 11  Location      1 non-null      object \n",
      "dtypes: float64(6), object(6)\n",
      "memory usage: 104.0+ bytes\n",
      "None\n",
      "   KM_Driven Fuel_Type  age  ...  model power_new   Location\n",
      "0       10.0    Petrol  4.0  ...  swift      90.0  Bangalore\n",
      "\n",
      "[1 rows x 12 columns]\n",
      "2022-11-19T10:16:17+0530 [INFO] [dev_api_server:usedcar_price_predictor] 127.0.0.1:51273 (scheme=http,method=POST,path=/predict,type=,length=219) (status=200,type=application/json,length=26) 1082.106ms (trace=0ad744c58e9884293683b74fd73c490a,span=69a4f1e7336910b1,sampled=0)\n",
      "<class 'pandas.core.frame.DataFrame'>\n",
      "Int64Index: 1 entries, 0 to 0\n",
      "Data columns (total 12 columns):\n",
      " #   Column        Non-Null Count  Dtype  \n",
      "---  ------        --------------  -----  \n",
      " 0   KM_Driven     1 non-null      float64\n",
      " 1   Fuel_Type     1 non-null      object \n",
      " 2   age           1 non-null      float64\n",
      " 3   Transmission  1 non-null      object \n",
      " 4   Owner_Type    1 non-null      object \n",
      " 5   Seats         1 non-null      float64\n",
      " 6   make          1 non-null      object \n",
      " 7   mileage_new   1 non-null      float64\n",
      " 8   engine_new    1 non-null      float64\n",
      " 9   model         1 non-null      object \n",
      " 10  power_new     1 non-null      float64\n",
      " 11  Location      1 non-null      object \n",
      "dtypes: float64(6), object(6)\n",
      "memory usage: 104.0+ bytes\n",
      "None\n",
      "   KM_Driven Fuel_Type  age  ...  model power_new   Location\n",
      "0       10.0    Petrol  4.0  ...  swift      90.0  Bangalore\n",
      "\n",
      "[1 rows x 12 columns]\n",
      "2022-11-19T10:17:05+0530 [INFO] [dev_api_server:usedcar_price_predictor] 127.0.0.1:51279 (scheme=http,method=POST,path=/predict,type=,length=243) (status=200,type=application/json,length=26) 563.565ms (trace=f1045db8b3d5b920e37c4b782858312c,span=aa575a12ceaad49e,sampled=0)\n",
      "^C\n"
     ]
    }
   ],
   "source": [
    "!bentoml serve service.py:svc --port=5000"
   ]
  },
  {
   "cell_type": "code",
   "execution_count": null,
   "metadata": {},
   "outputs": [],
   "source": []
  }
 ],
 "metadata": {
  "colab": {
   "provenance": []
  },
  "kernelspec": {
   "display_name": "Python 3",
   "language": "python",
   "name": "python3"
  },
  "language_info": {
   "codemirror_mode": {
    "name": "ipython",
    "version": 3
   },
   "file_extension": ".py",
   "mimetype": "text/x-python",
   "name": "python",
   "nbconvert_exporter": "python",
   "pygments_lexer": "ipython3",
   "version": "3.8.5"
  }
 },
 "nbformat": 4,
 "nbformat_minor": 1
}
