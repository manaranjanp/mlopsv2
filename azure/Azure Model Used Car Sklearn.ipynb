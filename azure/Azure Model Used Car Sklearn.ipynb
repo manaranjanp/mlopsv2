{
  "cells": [
    {
      "cell_type": "markdown",
      "source": [
        "## Building and storing the file as pickle file"
      ],
      "metadata": {
        "id": "3VBbPBFRCv2E"
      }
    },
    {
      "cell_type": "code",
      "source": [
        "# Not required now\n",
        "#!pip install -U scikit-learn==0.24"
      ],
      "outputs": [
        {
          "output_type": "stream",
          "name": "stdout",
          "text": "Requirement already up-to-date: scikit-learn==0.24 in /anaconda/envs/azureml_py36/lib/python3.6/site-packages (0.24.0)\r\nRequirement already satisfied, skipping upgrade: scipy>=0.19.1 in /anaconda/envs/azureml_py36/lib/python3.6/site-packages (from scikit-learn==0.24) (1.5.2)\r\nRequirement already satisfied, skipping upgrade: numpy>=1.13.3 in /anaconda/envs/azureml_py36/lib/python3.6/site-packages (from scikit-learn==0.24) (1.18.5)\r\nRequirement already satisfied, skipping upgrade: threadpoolctl>=2.0.0 in /anaconda/envs/azureml_py36/lib/python3.6/site-packages (from scikit-learn==0.24) (2.1.0)\r\nRequirement already satisfied, skipping upgrade: joblib>=0.11 in /anaconda/envs/azureml_py36/lib/python3.6/site-packages (from scikit-learn==0.24) (0.14.1)\r\n"
        }
      ],
      "execution_count": 62,
      "metadata": {
        "jupyter": {
          "source_hidden": false,
          "outputs_hidden": false
        },
        "nteract": {
          "transient": {
            "deleting": false
          }
        }
      }
    },
    {
      "cell_type": "code",
      "source": [
        "import pandas as pd\n",
        "import numpy as np\n",
        "from sklearn.model_selection import train_test_split\n",
        "from sklearn.metrics import r2_score, mean_squared_error\n",
        "from sklearn.compose import ColumnTransformer\n",
        "from sklearn.pipeline import Pipeline\n",
        "from sklearn.impute import SimpleImputer\n",
        "from sklearn.preprocessing import StandardScaler, OneHotEncoder\n",
        "from sklearn.ensemble import GradientBoostingRegressor, AdaBoostRegressor\n",
        "import pprint\n",
        "import os"
      ],
      "outputs": [],
      "execution_count": 63,
      "metadata": {
        "id": "c9gF4R9gFds_",
        "gather": {
          "logged": 1636786639910
        }
      }
    },
    {
      "cell_type": "code",
      "source": [
        "import xgboost\n",
        "xgboost.__version__"
      ],
      "outputs": [
        {
          "output_type": "execute_result",
          "execution_count": 64,
          "data": {
            "text/plain": "'0.90'"
          },
          "metadata": {}
        }
      ],
      "execution_count": 64,
      "metadata": {
        "jupyter": {
          "source_hidden": false,
          "outputs_hidden": false
        },
        "nteract": {
          "transient": {
            "deleting": false
          }
        },
        "gather": {
          "logged": 1636786640209
        }
      }
    },
    {
      "cell_type": "code",
      "source": [
        "import sklearn\n",
        "sklearn.__version__"
      ],
      "outputs": [
        {
          "output_type": "execute_result",
          "execution_count": 65,
          "data": {
            "text/plain": "'0.24.0'"
          },
          "metadata": {}
        }
      ],
      "execution_count": 65,
      "metadata": {
        "colab": {
          "base_uri": "https://localhost:8080/",
          "height": 35
        },
        "id": "7k6teGK8ow9L",
        "outputId": "e6e557ac-0302-4908-fc49-ae9b28a70390",
        "gather": {
          "logged": 1636786640407
        }
      }
    },
    {
      "cell_type": "markdown",
      "source": [
        "## Loading the dataset: Used Car Price Prediction"
      ],
      "metadata": {
        "id": "wH75ib_uC3Gc"
      }
    },
    {
      "cell_type": "code",
      "source": [
        "from azureml.core import Workspace, Dataset\n",
        "\n",
        "subscription_id = 'fbb085eb-3abd-4384-93aa-608f78277ad2'\n",
        "resource_group = 'MLOpsDemo'\n",
        "workspace_name = 'MLOPS2021'\n",
        "\n",
        "workspace = Workspace(subscription_id, resource_group, workspace_name)\n",
        "\n",
        "dataset = Dataset.get_by_name(workspace, name='usedcar_dataset')\n",
        "cars_df = dataset.to_pandas_dataframe()"
      ],
      "outputs": [],
      "execution_count": 66,
      "metadata": {
        "id": "E2eCp6WPFjCQ",
        "gather": {
          "logged": 1636786640862
        }
      }
    },
    {
      "cell_type": "code",
      "source": [
        "cars_df.head(5)"
      ],
      "outputs": [
        {
          "output_type": "execute_result",
          "execution_count": 67,
          "data": {
            "text/plain": "  Location Fuel_Type Transmission Owner_Type  Seats  Price  mileage_new  \\\n0  Chennai    Petrol       Manual      First    5.0   4.50        18.20   \n1  Chennai    Diesel       Manual      First    7.0   6.00        20.77   \n2   Jaipur    Diesel       Manual      First    5.0   3.50        23.08   \n3  Chennai    Diesel       Manual     Second    5.0   1.95        22.30   \n4   Jaipur    Diesel       Manual      First    5.0   5.60        25.20   \n\n   engine_new  power_new  age    make   model  KM_Driven  \n0        1199      88.70    9   honda    jazz         46  \n1        1248      88.76    8  maruti  ertiga         87  \n2        1461      63.10    7  nissan   micra         86  \n3        1248      74.00    8    tata  indica         65  \n4        1248      74.00    5  maruti   swift         64  ",
            "text/html": "<div>\n<style scoped>\n    .dataframe tbody tr th:only-of-type {\n        vertical-align: middle;\n    }\n\n    .dataframe tbody tr th {\n        vertical-align: top;\n    }\n\n    .dataframe thead th {\n        text-align: right;\n    }\n</style>\n<table border=\"1\" class=\"dataframe\">\n  <thead>\n    <tr style=\"text-align: right;\">\n      <th></th>\n      <th>Location</th>\n      <th>Fuel_Type</th>\n      <th>Transmission</th>\n      <th>Owner_Type</th>\n      <th>Seats</th>\n      <th>Price</th>\n      <th>mileage_new</th>\n      <th>engine_new</th>\n      <th>power_new</th>\n      <th>age</th>\n      <th>make</th>\n      <th>model</th>\n      <th>KM_Driven</th>\n    </tr>\n  </thead>\n  <tbody>\n    <tr>\n      <th>0</th>\n      <td>Chennai</td>\n      <td>Petrol</td>\n      <td>Manual</td>\n      <td>First</td>\n      <td>5.0</td>\n      <td>4.50</td>\n      <td>18.20</td>\n      <td>1199</td>\n      <td>88.70</td>\n      <td>9</td>\n      <td>honda</td>\n      <td>jazz</td>\n      <td>46</td>\n    </tr>\n    <tr>\n      <th>1</th>\n      <td>Chennai</td>\n      <td>Diesel</td>\n      <td>Manual</td>\n      <td>First</td>\n      <td>7.0</td>\n      <td>6.00</td>\n      <td>20.77</td>\n      <td>1248</td>\n      <td>88.76</td>\n      <td>8</td>\n      <td>maruti</td>\n      <td>ertiga</td>\n      <td>87</td>\n    </tr>\n    <tr>\n      <th>2</th>\n      <td>Jaipur</td>\n      <td>Diesel</td>\n      <td>Manual</td>\n      <td>First</td>\n      <td>5.0</td>\n      <td>3.50</td>\n      <td>23.08</td>\n      <td>1461</td>\n      <td>63.10</td>\n      <td>7</td>\n      <td>nissan</td>\n      <td>micra</td>\n      <td>86</td>\n    </tr>\n    <tr>\n      <th>3</th>\n      <td>Chennai</td>\n      <td>Diesel</td>\n      <td>Manual</td>\n      <td>Second</td>\n      <td>5.0</td>\n      <td>1.95</td>\n      <td>22.30</td>\n      <td>1248</td>\n      <td>74.00</td>\n      <td>8</td>\n      <td>tata</td>\n      <td>indica</td>\n      <td>65</td>\n    </tr>\n    <tr>\n      <th>4</th>\n      <td>Jaipur</td>\n      <td>Diesel</td>\n      <td>Manual</td>\n      <td>First</td>\n      <td>5.0</td>\n      <td>5.60</td>\n      <td>25.20</td>\n      <td>1248</td>\n      <td>74.00</td>\n      <td>5</td>\n      <td>maruti</td>\n      <td>swift</td>\n      <td>64</td>\n    </tr>\n  </tbody>\n</table>\n</div>"
          },
          "metadata": {}
        }
      ],
      "execution_count": 67,
      "metadata": {
        "colab": {
          "base_uri": "https://localhost:8080/",
          "height": 281
        },
        "id": "9w_Ywj6SFwrc",
        "outputId": "a4908b6d-3cae-4c10-de70-56677d68ac14",
        "gather": {
          "logged": 1636786641078
        }
      }
    },
    {
      "cell_type": "code",
      "source": [
        "x_columns = ['KM_Driven', 'Fuel_Type', 'age',\n",
        "              'Transmission', 'Owner_Type', 'Seats',\n",
        "              'make', 'mileage_new', 'engine_new', 'model',\n",
        "              'power_new', 'Location']\n",
        "## model of the car is not included in the model"
      ],
      "outputs": [],
      "execution_count": 68,
      "metadata": {
        "id": "sehIIbSBFnD1",
        "gather": {
          "logged": 1636786641374
        }
      }
    },
    {
      "cell_type": "code",
      "source": [
        "cars_df.shape"
      ],
      "outputs": [
        {
          "output_type": "execute_result",
          "execution_count": 69,
          "data": {
            "text/plain": "(3092, 13)"
          },
          "metadata": {}
        }
      ],
      "execution_count": 69,
      "metadata": {
        "colab": {
          "base_uri": "https://localhost:8080/"
        },
        "id": "-JteBYVPShF3",
        "outputId": "8f26fc0f-3a5e-4956-b58f-8f07ae38cb92",
        "gather": {
          "logged": 1636786641584
        }
      }
    },
    {
      "cell_type": "code",
      "source": [
        "cars_df = cars_df[x_columns + ['Price']].dropna()"
      ],
      "outputs": [],
      "execution_count": 70,
      "metadata": {
        "id": "pVC9f4QISa2h",
        "gather": {
          "logged": 1636786641782
        }
      }
    },
    {
      "cell_type": "code",
      "source": [
        "cars_df.shape"
      ],
      "outputs": [
        {
          "output_type": "execute_result",
          "execution_count": 71,
          "data": {
            "text/plain": "(3091, 13)"
          },
          "metadata": {}
        }
      ],
      "execution_count": 71,
      "metadata": {
        "colab": {
          "base_uri": "https://localhost:8080/"
        },
        "id": "l_bULZE0SjBf",
        "outputId": "87c69daa-dceb-4e87-a73d-f60eb7c20eb7",
        "gather": {
          "logged": 1636786641987
        }
      }
    },
    {
      "cell_type": "markdown",
      "source": [
        "## Identifying numerical and categorical features"
      ],
      "metadata": {
        "id": "pJxhn2VxDAdG"
      }
    },
    {
      "cell_type": "code",
      "source": [
        "cat_features = ['Fuel_Type',\n",
        "                'Transmission', 'Owner_Type', 'model',\n",
        "                'make', 'Location']"
      ],
      "outputs": [],
      "execution_count": 72,
      "metadata": {
        "id": "PuezADwYFsWd",
        "gather": {
          "logged": 1636786642186
        }
      }
    },
    {
      "cell_type": "code",
      "source": [
        "num_features = list(set(x_columns) - set(cat_features))"
      ],
      "outputs": [],
      "execution_count": 73,
      "metadata": {
        "id": "IyzKKTogFs_l",
        "gather": {
          "logged": 1636786642375
        }
      }
    },
    {
      "cell_type": "markdown",
      "source": [
        "## Split the dataset"
      ],
      "metadata": {
        "id": "4tyTBzVVDDrX"
      }
    },
    {
      "cell_type": "code",
      "source": [
        "x_train, x_test, y_train, y_test = train_test_split(cars_df[x_columns],\n",
        "                                                    cars_df.Price,\n",
        "                                                    train_size = 0.8,\n",
        "                                                    random_state = 100)"
      ],
      "outputs": [],
      "execution_count": 74,
      "metadata": {
        "id": "-ZXkTZdAkjFT",
        "gather": {
          "logged": 1636786642570
        }
      }
    },
    {
      "cell_type": "markdown",
      "source": [
        "## Creating the pipeline for the deployment"
      ],
      "metadata": {
        "id": "ZJBs5b9MDGXr"
      }
    },
    {
      "cell_type": "code",
      "source": [
        "numeric_transformer = Pipeline(steps=[('scaler', StandardScaler())])\n",
        "\n",
        "categorical_transformer = Pipeline(steps=[('onehot', \n",
        "                                           OneHotEncoder(handle_unknown='ignore'))])\n",
        "\n",
        "preprocessor = ColumnTransformer(\n",
        "    transformers=[\n",
        "        ('num', numeric_transformer, num_features),                  \n",
        "        ('cat', categorical_transformer, cat_features),\n",
        "    ])\n",
        "\n",
        "params = { \"n_estimators\": 400,\n",
        "           \"max_depth\": 4 }\n",
        "\n",
        "xgb_regressor = GradientBoostingRegressor(**params)\n",
        "\n",
        "reg = Pipeline(steps=[('preprocessor', preprocessor),\n",
        "                      ('regressor', xgb_regressor)])           \n",
        "\n",
        "reg.fit(x_train, \n",
        "        y_train)\n",
        "\n",
        "rmse = np.sqrt(mean_squared_error(y_test, \n",
        "                                  reg.predict(x_test)))"
      ],
      "outputs": [],
      "execution_count": 79,
      "metadata": {
        "id": "hj4QG6V7dZHd",
        "gather": {
          "logged": 1636786668964
        }
      }
    },
    {
      "cell_type": "code",
      "source": [
        "x_test[0:1]"
      ],
      "outputs": [
        {
          "output_type": "execute_result",
          "execution_count": 80,
          "data": {
            "text/plain": "      KM_Driven Fuel_Type  age Transmission Owner_Type  Seats    make  \\\n1588         75    Diesel    9       Manual     Second    5.0  maruti   \n\n      mileage_new  engine_new model  power_new Location  \n1588         21.1        1248  ritz       73.9   Mumbai  ",
            "text/html": "<div>\n<style scoped>\n    .dataframe tbody tr th:only-of-type {\n        vertical-align: middle;\n    }\n\n    .dataframe tbody tr th {\n        vertical-align: top;\n    }\n\n    .dataframe thead th {\n        text-align: right;\n    }\n</style>\n<table border=\"1\" class=\"dataframe\">\n  <thead>\n    <tr style=\"text-align: right;\">\n      <th></th>\n      <th>KM_Driven</th>\n      <th>Fuel_Type</th>\n      <th>age</th>\n      <th>Transmission</th>\n      <th>Owner_Type</th>\n      <th>Seats</th>\n      <th>make</th>\n      <th>mileage_new</th>\n      <th>engine_new</th>\n      <th>model</th>\n      <th>power_new</th>\n      <th>Location</th>\n    </tr>\n  </thead>\n  <tbody>\n    <tr>\n      <th>1588</th>\n      <td>75</td>\n      <td>Diesel</td>\n      <td>9</td>\n      <td>Manual</td>\n      <td>Second</td>\n      <td>5.0</td>\n      <td>maruti</td>\n      <td>21.1</td>\n      <td>1248</td>\n      <td>ritz</td>\n      <td>73.9</td>\n      <td>Mumbai</td>\n    </tr>\n  </tbody>\n</table>\n</div>"
          },
          "metadata": {}
        }
      ],
      "execution_count": 80,
      "metadata": {
        "jupyter": {
          "source_hidden": false,
          "outputs_hidden": false
        },
        "nteract": {
          "transient": {
            "deleting": false
          }
        },
        "gather": {
          "logged": 1636786669183
        }
      }
    },
    {
      "cell_type": "code",
      "source": [
        "print(rmse)"
      ],
      "outputs": [
        {
          "output_type": "stream",
          "name": "stdout",
          "text": "0.6454254301417076\n"
        }
      ],
      "execution_count": 81,
      "metadata": {
        "colab": {
          "base_uri": "https://localhost:8080/"
        },
        "id": "_sgMnRCllduv",
        "outputId": "ade741b2-d216-4498-d391-ec71d697faaf",
        "gather": {
          "logged": 1636786670448
        }
      }
    },
    {
      "cell_type": "markdown",
      "source": [
        "## Creating Pickel File and Storing it"
      ],
      "metadata": {
        "id": "GinsWuBFaNoi"
      }
    },
    {
      "cell_type": "code",
      "source": [
        "!rm carmodel.pkl"
      ],
      "outputs": [],
      "execution_count": 88,
      "metadata": {
        "jupyter": {
          "source_hidden": false,
          "outputs_hidden": false
        },
        "nteract": {
          "transient": {
            "deleting": false
          }
        }
      }
    },
    {
      "cell_type": "code",
      "source": [
        "from joblib import dump"
      ],
      "outputs": [],
      "execution_count": 89,
      "metadata": {
        "id": "XLB8MUnmaNBJ",
        "gather": {
          "logged": 1636786790222
        }
      }
    },
    {
      "cell_type": "code",
      "source": [
        "dump(reg, \"carmodel.pkl\")"
      ],
      "outputs": [
        {
          "output_type": "execute_result",
          "execution_count": 91,
          "data": {
            "text/plain": "['carmodel.pkl']"
          },
          "metadata": {}
        }
      ],
      "execution_count": 91,
      "metadata": {
        "colab": {
          "base_uri": "https://localhost:8080/"
        },
        "id": "t_VVLIJ1ddSb",
        "outputId": "4280441d-8d77-4c09-a20e-90a978e1b41e",
        "gather": {
          "logged": 1636786801132
        }
      }
    },
    {
      "cell_type": "code",
      "source": [
        "!ls -al "
      ],
      "outputs": [
        {
          "output_type": "stream",
          "name": "stdout",
          "text": "total 1250\r\ndrwxrwxrwx 2 root root       0 Nov 12 05:30  .\r\ndrwxrwxrwx 2 root root       0 Nov 12 05:30  ..\r\n-rwxrwxrwx 1 root root     315 Nov 12 06:57  .amlignore\r\n-rwxrwxrwx 1 root root     315 Nov 12 06:57  .amlignore.amltmp\r\ndrwxrwxrwx 2 root root       0 Nov 12 06:59  .config\r\ndrwxrwxrwx 2 root root       0 Nov 12 06:57  .ipynb_aml_checkpoints\r\n-rwxrwxrwx 1 root root   42114 Nov 13 06:58 'Azure Model Used Car Sklearn.ipynb'\r\n-rwxrwxrwx 1 root root   18800 Nov 12 09:39 'Azure Model Used Car.ipynb'\r\n-rwxrwxrwx 1 root root   43808 Nov 12 11:02 'Debug Notebook.ipynb'\r\n-rwxrwxrwx 1 root root    7669 Nov 13 06:54 'Usedcar Model Deploy.ipynb'\r\n-rwxrwxrwx 1 root root   42114 Nov 13 06:58 'azure model used car sklearn.ipynb.amltmp'\r\n-rwxrwxrwx 1 root root   18800 Nov 12 09:39 'azure model used car.ipynb.amltmp'\r\n-rwxrwxrwx 1 root root 1050292 Nov 13 07:00  carmodel.pkl\r\n-rwxrwxrwx 1 root root   43808 Nov 12 11:02 'debug notebook.ipynb.amltmp'\r\ndrwxrwxrwx 2 root root       0 Nov 12 09:07  model\r\ndrwxrwxrwx 2 root root       0 Nov 12 09:39  modeldir\r\ndrwxrwxrwx 2 root root       0 Nov 13 03:55  modelstore\r\n-rwxrwxrwx 1 root root    1227 Nov 13 06:33  score.py\r\n-rwxrwxrwx 1 root root    7669 Nov 13 06:54 'usedcar model deploy.ipynb.amltmp'\r\n"
        }
      ],
      "execution_count": 92,
      "metadata": {
        "jupyter": {
          "source_hidden": false,
          "outputs_hidden": false
        },
        "nteract": {
          "transient": {
            "deleting": false
          }
        }
      }
    },
    {
      "cell_type": "code",
      "source": [
        "import sklearn\n",
        "\n",
        "from azureml.core import Model\n",
        "from azureml.core.workspace import Workspace\n",
        "from azureml.core.resource_configuration import ResourceConfiguration\n",
        "\n",
        "ws = Workspace.from_config()\n",
        "\n",
        "model = Model.register(workspace=ws,\n",
        "                       model_name='usedcarprice_gbm',                # Name of the registered model in your workspace.\n",
        "                       model_path='carmodel.pkl',  # Local file to upload and register as a model.\n",
        "                       model_framework=Model.Framework.SCIKITLEARN,  # Framework used to create the model.\n",
        "                       model_framework_version=sklearn.__version__,  # Version of scikit-learn used to create the model.\n",
        "                       description='XGBoost Regression model to predict the price of an used car.',\n",
        "                       tags={'area': 'usedcar', 'type': 'regression'})"
      ],
      "outputs": [
        {
          "output_type": "stream",
          "name": "stdout",
          "text": "Registering model usedcarprice_gbm\n"
        }
      ],
      "execution_count": 93,
      "metadata": {
        "id": "a377wlaAdmHa",
        "gather": {
          "logged": 1636786810732
        }
      }
    }
  ],
  "metadata": {
    "colab": {
      "name": "Model Persistence Pickle 1.0.ipynb",
      "provenance": [],
      "collapsed_sections": []
    },
    "kernelspec": {
      "name": "python3",
      "language": "python",
      "display_name": "Python 3"
    },
    "language_info": {
      "name": "python",
      "version": "3.6.9",
      "mimetype": "text/x-python",
      "codemirror_mode": {
        "name": "ipython",
        "version": 3
      },
      "pygments_lexer": "ipython3",
      "nbconvert_exporter": "python",
      "file_extension": ".py"
    },
    "kernel_info": {
      "name": "python3"
    },
    "microsoft": {
      "host": {
        "AzureML": {
          "notebookHasBeenCompleted": true
        }
      }
    },
    "nteract": {
      "version": "nteract-front-end@1.0.0"
    }
  },
  "nbformat": 4,
  "nbformat_minor": 0
}