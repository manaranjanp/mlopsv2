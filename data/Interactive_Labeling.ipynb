{
  "cells": [
    {
      "cell_type": "markdown",
      "metadata": {
        "id": "isXJ7OuZyu-t"
      },
      "source": [
        "# Interactive labeling with Jupyter\n",
        "\n",
        "In this example, the active learning workflow of modAL is demonstrated - with you in the loop! By running this notebook, you'll be queried to label digits using the [DIGITS dataset](http://archive.ics.uci.edu/ml/datasets/Optical+Recognition+of+Handwritten+Digits)"
      ]
    },
    {
      "cell_type": "code",
      "execution_count": 1,
      "metadata": {
        "colab": {
          "base_uri": "https://localhost:8080/"
        },
        "id": "xv5hjsZwyu-y",
        "outputId": "cb6adacf-2be5-4d34-ae8d-f56ea0e36e21"
      },
      "outputs": [
        {
          "output_type": "stream",
          "name": "stdout",
          "text": [
            "Looking in indexes: https://pypi.org/simple, https://us-python.pkg.dev/colab-wheels/public/simple/\n",
            "Requirement already satisfied: modal in /usr/local/lib/python3.9/dist-packages (0.4.1)\n",
            "Requirement already satisfied: scipy>=0.18 in /usr/local/lib/python3.9/dist-packages (from modal) (1.10.1)\n",
            "Requirement already satisfied: numpy>=1.13 in /usr/local/lib/python3.9/dist-packages (from modal) (1.22.4)\n",
            "Requirement already satisfied: scikit-learn>=0.18 in /usr/local/lib/python3.9/dist-packages (from modal) (1.2.2)\n",
            "Requirement already satisfied: pandas>=1.1.0 in /usr/local/lib/python3.9/dist-packages (from modal) (1.4.4)\n",
            "Requirement already satisfied: pytz>=2020.1 in /usr/local/lib/python3.9/dist-packages (from pandas>=1.1.0->modal) (2022.7.1)\n",
            "Requirement already satisfied: python-dateutil>=2.8.1 in /usr/local/lib/python3.9/dist-packages (from pandas>=1.1.0->modal) (2.8.2)\n",
            "Requirement already satisfied: threadpoolctl>=2.0.0 in /usr/local/lib/python3.9/dist-packages (from scikit-learn>=0.18->modal) (3.1.0)\n",
            "Requirement already satisfied: joblib>=1.1.1 in /usr/local/lib/python3.9/dist-packages (from scikit-learn>=0.18->modal) (1.1.1)\n",
            "Requirement already satisfied: six>=1.5 in /usr/local/lib/python3.9/dist-packages (from python-dateutil>=2.8.1->pandas>=1.1.0->modal) (1.15.0)\n"
          ]
        }
      ],
      "source": [
        "!pip install modal"
      ]
    },
    {
      "cell_type": "code",
      "execution_count": 2,
      "metadata": {
        "id": "Ewg_mPiUyu-z"
      },
      "outputs": [],
      "source": [
        "import numpy as np\n",
        "\n",
        "from modAL.models import ActiveLearner\n",
        "from modAL.uncertainty import uncertainty_sampling\n",
        "\n",
        "from sklearn.datasets import load_digits\n",
        "from sklearn.model_selection import train_test_split\n",
        "from sklearn.ensemble import RandomForestClassifier\n",
        "\n",
        "from IPython import display\n",
        "from matplotlib import pyplot as plt"
      ]
    },
    {
      "cell_type": "markdown",
      "metadata": {
        "id": "1Bp90P4Myu-z"
      },
      "source": [
        "## The dataset"
      ]
    },
    {
      "cell_type": "markdown",
      "metadata": {
        "id": "qUGK3pqWyu-0"
      },
      "source": [
        "Now we set up the initial training set for our classifier. If you would like to play around, you can try to modifiy the value ```n_initial``` below and see if it impacts the algorithm!"
      ]
    },
    {
      "cell_type": "code",
      "execution_count": 67,
      "metadata": {
        "id": "Ph1GhvNUyu-0"
      },
      "outputs": [],
      "source": [
        "n_initial = 1000"
      ]
    },
    {
      "cell_type": "code",
      "source": [
        "#X, y = load_digits(return_X_y=True)\n",
        "\n",
        "from sklearn.datasets import fetch_openml\n",
        "#mnist = fetch_openml('mnist_784')\n",
        "\n",
        "X, y = fetch_openml(name='mnist_784', as_frame=False, return_X_y=True, parser=\"pandas\")"
      ],
      "metadata": {
        "id": "1m4Q0CM64NU3"
      },
      "execution_count": 68,
      "outputs": []
    },
    {
      "cell_type": "code",
      "source": [
        "y = y.astype(int)"
      ],
      "metadata": {
        "id": "7JmHpRUI-4Ai"
      },
      "execution_count": 69,
      "outputs": []
    },
    {
      "cell_type": "code",
      "source": [
        "y"
      ],
      "metadata": {
        "colab": {
          "base_uri": "https://localhost:8080/"
        },
        "id": "n6lbSUTrEm2s",
        "outputId": "a1227bef-98f2-455a-8e33-8eeaf876c64b"
      },
      "execution_count": 70,
      "outputs": [
        {
          "output_type": "execute_result",
          "data": {
            "text/plain": [
              "array([5, 0, 4, ..., 4, 5, 6])"
            ]
          },
          "metadata": {},
          "execution_count": 70
        }
      ]
    },
    {
      "cell_type": "code",
      "source": [
        "X.shape, y.shape"
      ],
      "metadata": {
        "colab": {
          "base_uri": "https://localhost:8080/"
        },
        "id": "KHbqnVUp8z8k",
        "outputId": "65cfa0db-d043-4b0b-cd75-9795eee0424d"
      },
      "execution_count": 71,
      "outputs": [
        {
          "output_type": "execute_result",
          "data": {
            "text/plain": [
              "((70000, 784), (70000,))"
            ]
          },
          "metadata": {},
          "execution_count": 71
        }
      ]
    },
    {
      "cell_type": "code",
      "execution_count": 72,
      "metadata": {
        "id": "wzUY51DGyu-0"
      },
      "outputs": [],
      "source": [
        "X_train, X_test, y_train, y_test = train_test_split(X, y)\n",
        "\n",
        "initial_idx = np.random.choice(range(len(X_train)), size=n_initial, replace=False)\n",
        "\n",
        "X_initial, y_initial = X_train[initial_idx], y_train[initial_idx]\n",
        "X_pool, y_pool = np.delete(X_train, initial_idx, axis=0), np.delete(y_train, initial_idx, axis=0)"
      ]
    },
    {
      "cell_type": "code",
      "source": [
        "X_train.shape"
      ],
      "metadata": {
        "colab": {
          "base_uri": "https://localhost:8080/"
        },
        "id": "RQXOONVC53IY",
        "outputId": "e7c513ab-5bb0-4e34-b33b-a753d141877e"
      },
      "execution_count": 73,
      "outputs": [
        {
          "output_type": "execute_result",
          "data": {
            "text/plain": [
              "(52500, 784)"
            ]
          },
          "metadata": {},
          "execution_count": 73
        }
      ]
    },
    {
      "cell_type": "code",
      "source": [
        "X_train.dtype"
      ],
      "metadata": {
        "colab": {
          "base_uri": "https://localhost:8080/"
        },
        "id": "z-DgXCXDDY-_",
        "outputId": "d924a82e-801b-4925-c84f-70b0e69a401b"
      },
      "execution_count": 74,
      "outputs": [
        {
          "output_type": "execute_result",
          "data": {
            "text/plain": [
              "dtype('int64')"
            ]
          },
          "metadata": {},
          "execution_count": 74
        }
      ]
    },
    {
      "cell_type": "code",
      "source": [
        "y_initial"
      ],
      "metadata": {
        "colab": {
          "base_uri": "https://localhost:8080/"
        },
        "id": "v7eg7xRrDRqQ",
        "outputId": "cebc84a6-4f86-481e-9f16-b82a161dca8a"
      },
      "execution_count": 75,
      "outputs": [
        {
          "output_type": "execute_result",
          "data": {
            "text/plain": [
              "array([5, 2, 3, 4, 7, 9, 1, 6, 0, 7, 2, 7, 1, 9, 1, 4, 5, 3, 2, 9, 3, 0,\n",
              "       1, 9, 7, 6, 9, 2, 6, 9, 8, 8, 7, 6, 0, 9, 5, 1, 4, 3, 2, 3, 9, 7,\n",
              "       3, 1, 3, 9, 6, 5, 6, 3, 7, 7, 7, 9, 6, 7, 3, 8, 4, 4, 9, 9, 6, 4,\n",
              "       0, 0, 6, 5, 4, 2, 5, 7, 9, 4, 5, 4, 3, 7, 7, 0, 0, 2, 2, 5, 3, 7,\n",
              "       0, 8, 5, 1, 2, 5, 6, 5, 2, 1, 1, 0, 9, 6, 0, 3, 0, 7, 7, 3, 9, 7,\n",
              "       5, 7, 2, 4, 1, 2, 0, 7, 1, 5, 0, 8, 1, 9, 3, 4, 9, 8, 2, 0, 8, 1,\n",
              "       9, 9, 9, 4, 2, 8, 5, 1, 2, 3, 8, 6, 0, 4, 4, 3, 6, 1, 8, 6, 7, 7,\n",
              "       5, 7, 5, 4, 3, 7, 8, 2, 6, 1, 3, 8, 1, 9, 7, 8, 3, 9, 0, 2, 3, 5,\n",
              "       6, 9, 9, 2, 8, 3, 0, 1, 7, 2, 8, 6, 1, 5, 5, 9, 6, 6, 0, 6, 8, 9,\n",
              "       1, 8, 4, 7, 3, 1, 5, 9, 6, 1, 9, 0, 7, 1, 1, 7, 4, 3, 2, 1, 5, 0,\n",
              "       5, 6, 1, 6, 5, 3, 8, 8, 0, 0, 7, 2, 3, 5, 8, 6, 0, 6, 9, 9, 6, 7,\n",
              "       7, 6, 4, 5, 7, 7, 8, 2, 4, 8, 1, 5, 9, 4, 8, 8, 9, 1, 6, 4, 0, 7,\n",
              "       6, 2, 3, 9, 9, 3, 2, 6, 7, 1, 2, 5, 6, 7, 8, 8, 9, 7, 4, 8, 7, 1,\n",
              "       0, 7, 6, 8, 5, 3, 2, 9, 1, 8, 9, 6, 6, 1, 9, 2, 8, 3, 1, 2, 1, 2,\n",
              "       8, 8, 4, 0, 0, 5, 8, 4, 9, 3, 6, 8, 4, 1, 1, 3, 5, 8, 4, 9, 8, 2,\n",
              "       0, 7, 1, 1, 7, 4, 0, 6, 0, 6, 8, 3, 1, 6, 2, 5, 3, 3, 3, 3, 8, 2,\n",
              "       1, 1, 7, 2, 7, 4, 2, 0, 1, 8, 7, 9, 0, 3, 3, 2, 5, 3, 9, 0, 7, 9,\n",
              "       7, 6, 0, 5, 5, 9, 9, 8, 0, 2, 9, 2, 8, 4, 9, 7, 8, 2, 5, 7, 9, 1,\n",
              "       0, 8, 0, 4, 1, 5, 8, 2, 3, 7, 1, 3, 9, 7, 5, 5, 9, 0, 6, 5, 4, 8,\n",
              "       6, 7, 8, 4, 9, 7, 0, 6, 6, 1, 1, 4, 7, 2, 9, 7, 0, 7, 1, 9, 5, 3,\n",
              "       3, 0, 0, 3, 3, 2, 7, 6, 8, 2, 4, 3, 0, 1, 2, 1, 5, 8, 2, 6, 1, 2,\n",
              "       5, 1, 0, 5, 9, 7, 3, 9, 9, 3, 0, 6, 3, 3, 7, 8, 3, 8, 0, 3, 2, 2,\n",
              "       8, 9, 5, 1, 0, 5, 2, 7, 2, 6, 7, 7, 8, 3, 7, 1, 3, 6, 3, 2, 6, 7,\n",
              "       7, 2, 3, 4, 5, 2, 0, 2, 3, 3, 6, 3, 0, 0, 8, 2, 4, 2, 1, 6, 0, 4,\n",
              "       0, 3, 7, 4, 3, 2, 9, 1, 1, 5, 8, 6, 9, 6, 5, 2, 0, 8, 5, 4, 6, 6,\n",
              "       5, 0, 3, 0, 0, 3, 7, 6, 6, 2, 7, 6, 8, 4, 1, 3, 8, 1, 3, 2, 3, 8,\n",
              "       5, 7, 4, 6, 2, 1, 3, 7, 2, 5, 0, 4, 7, 8, 3, 5, 8, 1, 2, 8, 5, 3,\n",
              "       6, 7, 1, 8, 2, 2, 7, 5, 8, 8, 4, 0, 3, 8, 4, 1, 1, 8, 9, 3, 2, 1,\n",
              "       5, 3, 0, 4, 4, 3, 6, 6, 7, 2, 9, 0, 9, 1, 2, 4, 9, 7, 6, 1, 5, 4,\n",
              "       1, 7, 8, 8, 8, 9, 6, 4, 2, 6, 2, 2, 1, 4, 0, 0, 8, 8, 5, 3, 4, 4,\n",
              "       4, 2, 2, 4, 3, 7, 4, 3, 7, 4, 2, 7, 5, 9, 6, 5, 5, 2, 1, 5, 9, 3,\n",
              "       4, 5, 3, 1, 4, 5, 7, 2, 7, 2, 9, 7, 6, 7, 8, 1, 3, 7, 7, 3, 9, 9,\n",
              "       4, 7, 5, 5, 0, 1, 5, 7, 1, 7, 7, 1, 2, 4, 2, 2, 1, 7, 1, 4, 6, 8,\n",
              "       2, 8, 3, 4, 8, 0, 0, 5, 6, 3, 4, 5, 2, 7, 9, 7, 6, 0, 5, 6, 9, 8,\n",
              "       6, 7, 1, 4, 5, 5, 9, 7, 9, 9, 5, 3, 2, 8, 5, 3, 5, 0, 2, 0, 7, 6,\n",
              "       1, 9, 9, 4, 0, 6, 9, 1, 5, 3, 6, 4, 6, 9, 2, 3, 5, 2, 4, 3, 1, 2,\n",
              "       8, 8, 0, 5, 2, 3, 9, 2, 9, 0, 6, 9, 6, 8, 1, 0, 3, 0, 7, 4, 6, 4,\n",
              "       7, 2, 7, 2, 9, 2, 6, 7, 2, 9, 3, 2, 4, 3, 1, 2, 6, 9, 7, 4, 2, 9,\n",
              "       6, 9, 4, 9, 6, 3, 4, 6, 4, 3, 1, 4, 6, 8, 4, 1, 2, 3, 4, 4, 4, 5,\n",
              "       5, 5, 3, 6, 1, 3, 5, 8, 8, 0, 2, 4, 4, 0, 2, 6, 0, 1, 1, 5, 4, 0,\n",
              "       1, 7, 9, 1, 1, 3, 7, 3, 1, 2, 3, 3, 1, 1, 3, 6, 5, 8, 2, 6, 3, 9,\n",
              "       1, 0, 8, 6, 2, 5, 1, 0, 3, 2, 2, 2, 7, 1, 6, 7, 4, 2, 8, 7, 5, 2,\n",
              "       5, 2, 6, 2, 4, 9, 8, 6, 5, 0, 6, 9, 2, 5, 3, 7, 0, 9, 1, 3, 7, 9,\n",
              "       2, 6, 3, 3, 3, 9, 9, 3, 0, 0, 2, 6, 2, 9, 7, 8, 2, 6, 4, 7, 6, 5,\n",
              "       7, 0, 8, 2, 8, 5, 6, 0, 6, 0, 0, 9, 6, 0, 3, 2, 9, 7, 7, 0, 4, 0,\n",
              "       2, 5, 7, 6, 5, 3, 8, 9, 7, 1])"
            ]
          },
          "metadata": {},
          "execution_count": 75
        }
      ]
    },
    {
      "cell_type": "markdown",
      "metadata": {
        "id": "7kl3v-V7yu-1"
      },
      "source": [
        "## Initializing the learner"
      ]
    },
    {
      "cell_type": "markdown",
      "metadata": {
        "id": "uAxa6XW5yu-1"
      },
      "source": [
        "Now we initialize the active learner. Feel free to change the underlying ```RandomForestClassifier``` or the ```uncertainty_sampling```!"
      ]
    },
    {
      "cell_type": "code",
      "execution_count": 76,
      "metadata": {
        "id": "37JsNZgxyu-2"
      },
      "outputs": [],
      "source": [
        "learner = ActiveLearner(\n",
        "    estimator=RandomForestClassifier(),\n",
        "    query_strategy=uncertainty_sampling,\n",
        "    X_training=X_initial, y_training=y_initial\n",
        ")"
      ]
    },
    {
      "cell_type": "code",
      "source": [
        "X_initial.shape"
      ],
      "metadata": {
        "colab": {
          "base_uri": "https://localhost:8080/"
        },
        "id": "g2pstR2g7fUB",
        "outputId": "63bdfbd8-d367-4d7f-c4fc-01b8fcc2a503"
      },
      "execution_count": 77,
      "outputs": [
        {
          "output_type": "execute_result",
          "data": {
            "text/plain": [
              "(1000, 784)"
            ]
          },
          "metadata": {},
          "execution_count": 77
        }
      ]
    },
    {
      "cell_type": "code",
      "source": [
        "y_initial.shape"
      ],
      "metadata": {
        "colab": {
          "base_uri": "https://localhost:8080/"
        },
        "id": "jGtqXCZk7gJB",
        "outputId": "630e23b0-5235-4423-837d-121b69bbf596"
      },
      "execution_count": 78,
      "outputs": [
        {
          "output_type": "execute_result",
          "data": {
            "text/plain": [
              "(1000,)"
            ]
          },
          "metadata": {},
          "execution_count": 78
        }
      ]
    },
    {
      "cell_type": "markdown",
      "metadata": {
        "id": "gaQ44MwWyu-2"
      },
      "source": [
        "We also set how many queries we want to make. The more the better! (Usually :) )"
      ]
    },
    {
      "cell_type": "code",
      "execution_count": 79,
      "metadata": {
        "id": "gbUwtqRUyu-2"
      },
      "outputs": [],
      "source": [
        "n_queries = 20"
      ]
    },
    {
      "cell_type": "markdown",
      "metadata": {
        "id": "YnPrLX-Kyu-3"
      },
      "source": [
        "## The active learning loop"
      ]
    },
    {
      "cell_type": "code",
      "execution_count": 80,
      "metadata": {
        "colab": {
          "base_uri": "https://localhost:8080/",
          "height": 752
        },
        "id": "IAfrVcDsyu-3",
        "outputId": "76ca2ff9-023d-4fdf-92c9-220db400922b"
      },
      "outputs": [
        {
          "output_type": "display_data",
          "data": {
            "text/plain": [
              "<Figure size 720x360 with 2 Axes>"
            ],
            "image/png": "[encoded data removed]"
          },
          "metadata": {}
        },
        {
          "output_type": "stream",
          "name": "stdout",
          "text": [
            "Which digit is this?\n"
          ]
        },
        {
          "output_type": "error",
          "ename": "KeyboardInterrupt",
          "evalue": "ignored",
          "traceback": [
            "\u001b[0;31m---------------------------------------------------------------------------\u001b[0m",
            "\u001b[0;31mKeyboardInterrupt\u001b[0m                         Traceback (most recent call last)",
            "\u001b[0;32m<ipython-input-80-f17fe6a77d11>\u001b[0m in \u001b[0;36m<module>\u001b[0;34m\u001b[0m\n\u001b[1;32m     19\u001b[0m \u001b[0;34m\u001b[0m\u001b[0m\n\u001b[1;32m     20\u001b[0m     \u001b[0mprint\u001b[0m\u001b[0;34m(\u001b[0m\u001b[0;34m\"Which digit is this?\"\u001b[0m\u001b[0;34m)\u001b[0m\u001b[0;34m\u001b[0m\u001b[0;34m\u001b[0m\u001b[0m\n\u001b[0;32m---> 21\u001b[0;31m     \u001b[0my_new\u001b[0m \u001b[0;34m=\u001b[0m \u001b[0mnp\u001b[0m\u001b[0;34m.\u001b[0m\u001b[0marray\u001b[0m\u001b[0;34m(\u001b[0m\u001b[0;34m[\u001b[0m\u001b[0mint\u001b[0m\u001b[0;34m(\u001b[0m\u001b[0minput\u001b[0m\u001b[0;34m(\u001b[0m\u001b[0;34m)\u001b[0m\u001b[0;34m)\u001b[0m\u001b[0;34m]\u001b[0m\u001b[0;34m,\u001b[0m \u001b[0mdtype\u001b[0m\u001b[0;34m=\u001b[0m\u001b[0mint\u001b[0m\u001b[0;34m)\u001b[0m\u001b[0;34m\u001b[0m\u001b[0;34m\u001b[0m\u001b[0m\n\u001b[0m\u001b[1;32m     22\u001b[0m     \u001b[0mlearner\u001b[0m\u001b[0;34m.\u001b[0m\u001b[0mteach\u001b[0m\u001b[0;34m(\u001b[0m\u001b[0mquery_inst\u001b[0m\u001b[0;34m.\u001b[0m\u001b[0mreshape\u001b[0m\u001b[0;34m(\u001b[0m\u001b[0;36m1\u001b[0m\u001b[0;34m,\u001b[0m \u001b[0;34m-\u001b[0m\u001b[0;36m1\u001b[0m\u001b[0;34m)\u001b[0m\u001b[0;34m,\u001b[0m \u001b[0my_new\u001b[0m\u001b[0;34m)\u001b[0m\u001b[0;34m\u001b[0m\u001b[0;34m\u001b[0m\u001b[0m\n\u001b[1;32m     23\u001b[0m     \u001b[0mX_pool\u001b[0m\u001b[0;34m,\u001b[0m \u001b[0my_pool\u001b[0m \u001b[0;34m=\u001b[0m \u001b[0mnp\u001b[0m\u001b[0;34m.\u001b[0m\u001b[0mdelete\u001b[0m\u001b[0;34m(\u001b[0m\u001b[0mX_pool\u001b[0m\u001b[0;34m,\u001b[0m \u001b[0mquery_idx\u001b[0m\u001b[0;34m,\u001b[0m \u001b[0maxis\u001b[0m\u001b[0;34m=\u001b[0m\u001b[0;36m0\u001b[0m\u001b[0;34m)\u001b[0m\u001b[0;34m,\u001b[0m \u001b[0mnp\u001b[0m\u001b[0;34m.\u001b[0m\u001b[0mdelete\u001b[0m\u001b[0;34m(\u001b[0m\u001b[0my_pool\u001b[0m\u001b[0;34m,\u001b[0m \u001b[0mquery_idx\u001b[0m\u001b[0;34m,\u001b[0m \u001b[0maxis\u001b[0m\u001b[0;34m=\u001b[0m\u001b[0;36m0\u001b[0m\u001b[0;34m)\u001b[0m\u001b[0;34m\u001b[0m\u001b[0;34m\u001b[0m\u001b[0m\n",
            "\u001b[0;32m/usr/local/lib/python3.9/dist-packages/ipykernel/kernelbase.py\u001b[0m in \u001b[0;36mraw_input\u001b[0;34m(self, prompt)\u001b[0m\n\u001b[1;32m    858\u001b[0m                 \u001b[0;34m\"raw_input was called, but this frontend does not support input requests.\"\u001b[0m\u001b[0;34m\u001b[0m\u001b[0;34m\u001b[0m\u001b[0m\n\u001b[1;32m    859\u001b[0m             )\n\u001b[0;32m--> 860\u001b[0;31m         return self._input_request(str(prompt),\n\u001b[0m\u001b[1;32m    861\u001b[0m             \u001b[0mself\u001b[0m\u001b[0;34m.\u001b[0m\u001b[0m_parent_ident\u001b[0m\u001b[0;34m,\u001b[0m\u001b[0;34m\u001b[0m\u001b[0;34m\u001b[0m\u001b[0m\n\u001b[1;32m    862\u001b[0m             \u001b[0mself\u001b[0m\u001b[0;34m.\u001b[0m\u001b[0m_parent_header\u001b[0m\u001b[0;34m,\u001b[0m\u001b[0;34m\u001b[0m\u001b[0;34m\u001b[0m\u001b[0m\n",
            "\u001b[0;32m/usr/local/lib/python3.9/dist-packages/ipykernel/kernelbase.py\u001b[0m in \u001b[0;36m_input_request\u001b[0;34m(self, prompt, ident, parent, password)\u001b[0m\n\u001b[1;32m    902\u001b[0m             \u001b[0;32mexcept\u001b[0m \u001b[0mKeyboardInterrupt\u001b[0m\u001b[0;34m:\u001b[0m\u001b[0;34m\u001b[0m\u001b[0;34m\u001b[0m\u001b[0m\n\u001b[1;32m    903\u001b[0m                 \u001b[0;31m# re-raise KeyboardInterrupt, to truncate traceback\u001b[0m\u001b[0;34m\u001b[0m\u001b[0;34m\u001b[0m\u001b[0m\n\u001b[0;32m--> 904\u001b[0;31m                 \u001b[0;32mraise\u001b[0m \u001b[0mKeyboardInterrupt\u001b[0m\u001b[0;34m(\u001b[0m\u001b[0;34m\"Interrupted by user\"\u001b[0m\u001b[0;34m)\u001b[0m \u001b[0;32mfrom\u001b[0m \u001b[0;32mNone\u001b[0m\u001b[0;34m\u001b[0m\u001b[0;34m\u001b[0m\u001b[0m\n\u001b[0m\u001b[1;32m    905\u001b[0m             \u001b[0;32mexcept\u001b[0m \u001b[0mException\u001b[0m \u001b[0;32mas\u001b[0m \u001b[0me\u001b[0m\u001b[0;34m:\u001b[0m\u001b[0;34m\u001b[0m\u001b[0;34m\u001b[0m\u001b[0m\n\u001b[1;32m    906\u001b[0m                 \u001b[0mself\u001b[0m\u001b[0;34m.\u001b[0m\u001b[0mlog\u001b[0m\u001b[0;34m.\u001b[0m\u001b[0mwarning\u001b[0m\u001b[0;34m(\u001b[0m\u001b[0;34m\"Invalid Message:\"\u001b[0m\u001b[0;34m,\u001b[0m \u001b[0mexc_info\u001b[0m\u001b[0;34m=\u001b[0m\u001b[0;32mTrue\u001b[0m\u001b[0;34m)\u001b[0m\u001b[0;34m\u001b[0m\u001b[0;34m\u001b[0m\u001b[0m\n",
            "\u001b[0;31mKeyboardInterrupt\u001b[0m: Interrupted by user"
          ]
        }
      ],
      "source": [
        "accuracy_scores = [learner.score(X_test, y_test)]\n",
        "\n",
        "for i in range(n_queries):\n",
        "    display.clear_output(wait=True)\n",
        "    query_idx, query_inst = learner.query(X_pool)\n",
        "    with plt.style.context('seaborn-white'):\n",
        "        plt.figure(figsize=(10, 5))\n",
        "        plt.subplot(1, 2, 1)\n",
        "        plt.title('Digit to label')\n",
        "        plt.imshow(query_inst.reshape(28, 28))\n",
        "        plt.subplot(1, 2, 2)\n",
        "        plt.title('Accuracy of your model')\n",
        "        plt.plot(range(i+1), accuracy_scores)\n",
        "        plt.scatter(range(i+1), accuracy_scores)\n",
        "        plt.xlabel('number of queries')\n",
        "        plt.ylabel('accuracy')\n",
        "        display.display(plt.gcf())\n",
        "        plt.close('all')\n",
        "        \n",
        "    print(\"Which digit is this?\")\n",
        "    y_new = np.array([int(input())], dtype=int)\n",
        "    learner.teach(query_inst.reshape(1, -1), y_new)\n",
        "    X_pool, y_pool = np.delete(X_pool, query_idx, axis=0), np.delete(y_pool, query_idx, axis=0)\n",
        "    accuracy_scores.append(learner.score(X_test, y_test))"
      ]
    },
    {
      "cell_type": "markdown",
      "metadata": {
        "id": "IrKdYYUeyu-4"
      },
      "source": [
        "Finally, we can visualize the accuracy during the training."
      ]
    },
    {
      "cell_type": "code",
      "execution_count": 81,
      "metadata": {
        "colab": {
          "base_uri": "https://localhost:8080/",
          "height": 702
        },
        "id": "ZYu5PTiJyu-4",
        "outputId": "11182023-c161-4d86-dd66-2790e6f685b8"
      },
      "outputs": [
        {
          "output_type": "error",
          "ename": "ValueError",
          "evalue": "ignored",
          "traceback": [
            "\u001b[0;31m---------------------------------------------------------------------------\u001b[0m",
            "\u001b[0;31mValueError\u001b[0m                                Traceback (most recent call last)",
            "\u001b[0;32m<ipython-input-81-e558314c9525>\u001b[0m in \u001b[0;36m<module>\u001b[0;34m\u001b[0m\n\u001b[1;32m      2\u001b[0m     \u001b[0mplt\u001b[0m\u001b[0;34m.\u001b[0m\u001b[0mfigure\u001b[0m\u001b[0;34m(\u001b[0m\u001b[0mfigsize\u001b[0m\u001b[0;34m=\u001b[0m\u001b[0;34m(\u001b[0m\u001b[0;36m10\u001b[0m\u001b[0;34m,\u001b[0m \u001b[0;36m5\u001b[0m\u001b[0;34m)\u001b[0m\u001b[0;34m)\u001b[0m\u001b[0;34m\u001b[0m\u001b[0;34m\u001b[0m\u001b[0m\n\u001b[1;32m      3\u001b[0m     \u001b[0mplt\u001b[0m\u001b[0;34m.\u001b[0m\u001b[0mtitle\u001b[0m\u001b[0;34m(\u001b[0m\u001b[0;34m'Accuracy of the classifier during the active learning'\u001b[0m\u001b[0;34m)\u001b[0m\u001b[0;34m\u001b[0m\u001b[0;34m\u001b[0m\u001b[0m\n\u001b[0;32m----> 4\u001b[0;31m     \u001b[0mplt\u001b[0m\u001b[0;34m.\u001b[0m\u001b[0mplot\u001b[0m\u001b[0;34m(\u001b[0m\u001b[0mrange\u001b[0m\u001b[0;34m(\u001b[0m\u001b[0mn_queries\u001b[0m\u001b[0;34m+\u001b[0m\u001b[0;36m1\u001b[0m\u001b[0;34m)\u001b[0m\u001b[0;34m,\u001b[0m \u001b[0maccuracy_scores\u001b[0m\u001b[0;34m)\u001b[0m\u001b[0;34m\u001b[0m\u001b[0;34m\u001b[0m\u001b[0m\n\u001b[0m\u001b[1;32m      5\u001b[0m     \u001b[0mplt\u001b[0m\u001b[0;34m.\u001b[0m\u001b[0mscatter\u001b[0m\u001b[0;34m(\u001b[0m\u001b[0mrange\u001b[0m\u001b[0;34m(\u001b[0m\u001b[0mn_queries\u001b[0m\u001b[0;34m+\u001b[0m\u001b[0;36m1\u001b[0m\u001b[0;34m)\u001b[0m\u001b[0;34m,\u001b[0m \u001b[0maccuracy_scores\u001b[0m\u001b[0;34m)\u001b[0m\u001b[0;34m\u001b[0m\u001b[0;34m\u001b[0m\u001b[0m\n\u001b[1;32m      6\u001b[0m     \u001b[0mplt\u001b[0m\u001b[0;34m.\u001b[0m\u001b[0mxlabel\u001b[0m\u001b[0;34m(\u001b[0m\u001b[0;34m'number of queries'\u001b[0m\u001b[0;34m)\u001b[0m\u001b[0;34m\u001b[0m\u001b[0;34m\u001b[0m\u001b[0m\n",
            "\u001b[0;32m/usr/local/lib/python3.9/dist-packages/matplotlib/pyplot.py\u001b[0m in \u001b[0;36mplot\u001b[0;34m(scalex, scaley, data, *args, **kwargs)\u001b[0m\n\u001b[1;32m   2765\u001b[0m \u001b[0;34m@\u001b[0m\u001b[0m_copy_docstring_and_deprecators\u001b[0m\u001b[0;34m(\u001b[0m\u001b[0mAxes\u001b[0m\u001b[0;34m.\u001b[0m\u001b[0mplot\u001b[0m\u001b[0;34m)\u001b[0m\u001b[0;34m\u001b[0m\u001b[0;34m\u001b[0m\u001b[0m\n\u001b[1;32m   2766\u001b[0m \u001b[0;32mdef\u001b[0m \u001b[0mplot\u001b[0m\u001b[0;34m(\u001b[0m\u001b[0;34m*\u001b[0m\u001b[0margs\u001b[0m\u001b[0;34m,\u001b[0m \u001b[0mscalex\u001b[0m\u001b[0;34m=\u001b[0m\u001b[0;32mTrue\u001b[0m\u001b[0;34m,\u001b[0m \u001b[0mscaley\u001b[0m\u001b[0;34m=\u001b[0m\u001b[0;32mTrue\u001b[0m\u001b[0;34m,\u001b[0m \u001b[0mdata\u001b[0m\u001b[0;34m=\u001b[0m\u001b[0;32mNone\u001b[0m\u001b[0;34m,\u001b[0m \u001b[0;34m**\u001b[0m\u001b[0mkwargs\u001b[0m\u001b[0;34m)\u001b[0m\u001b[0;34m:\u001b[0m\u001b[0;34m\u001b[0m\u001b[0;34m\u001b[0m\u001b[0m\n\u001b[0;32m-> 2767\u001b[0;31m     return gca().plot(\n\u001b[0m\u001b[1;32m   2768\u001b[0m         \u001b[0;34m*\u001b[0m\u001b[0margs\u001b[0m\u001b[0;34m,\u001b[0m \u001b[0mscalex\u001b[0m\u001b[0;34m=\u001b[0m\u001b[0mscalex\u001b[0m\u001b[0;34m,\u001b[0m \u001b[0mscaley\u001b[0m\u001b[0;34m=\u001b[0m\u001b[0mscaley\u001b[0m\u001b[0;34m,\u001b[0m\u001b[0;34m\u001b[0m\u001b[0;34m\u001b[0m\u001b[0m\n\u001b[1;32m   2769\u001b[0m         **({\"data\": data} if data is not None else {}), **kwargs)\n",
            "\u001b[0;32m/usr/local/lib/python3.9/dist-packages/matplotlib/axes/_axes.py\u001b[0m in \u001b[0;36mplot\u001b[0;34m(self, scalex, scaley, data, *args, **kwargs)\u001b[0m\n\u001b[1;32m   1633\u001b[0m         \"\"\"\n\u001b[1;32m   1634\u001b[0m         \u001b[0mkwargs\u001b[0m \u001b[0;34m=\u001b[0m \u001b[0mcbook\u001b[0m\u001b[0;34m.\u001b[0m\u001b[0mnormalize_kwargs\u001b[0m\u001b[0;34m(\u001b[0m\u001b[0mkwargs\u001b[0m\u001b[0;34m,\u001b[0m \u001b[0mmlines\u001b[0m\u001b[0;34m.\u001b[0m\u001b[0mLine2D\u001b[0m\u001b[0;34m)\u001b[0m\u001b[0;34m\u001b[0m\u001b[0;34m\u001b[0m\u001b[0m\n\u001b[0;32m-> 1635\u001b[0;31m         \u001b[0mlines\u001b[0m \u001b[0;34m=\u001b[0m \u001b[0;34m[\u001b[0m\u001b[0;34m*\u001b[0m\u001b[0mself\u001b[0m\u001b[0;34m.\u001b[0m\u001b[0m_get_lines\u001b[0m\u001b[0;34m(\u001b[0m\u001b[0;34m*\u001b[0m\u001b[0margs\u001b[0m\u001b[0;34m,\u001b[0m \u001b[0mdata\u001b[0m\u001b[0;34m=\u001b[0m\u001b[0mdata\u001b[0m\u001b[0;34m,\u001b[0m \u001b[0;34m**\u001b[0m\u001b[0mkwargs\u001b[0m\u001b[0;34m)\u001b[0m\u001b[0;34m]\u001b[0m\u001b[0;34m\u001b[0m\u001b[0;34m\u001b[0m\u001b[0m\n\u001b[0m\u001b[1;32m   1636\u001b[0m         \u001b[0;32mfor\u001b[0m \u001b[0mline\u001b[0m \u001b[0;32min\u001b[0m \u001b[0mlines\u001b[0m\u001b[0;34m:\u001b[0m\u001b[0;34m\u001b[0m\u001b[0;34m\u001b[0m\u001b[0m\n\u001b[1;32m   1637\u001b[0m             \u001b[0mself\u001b[0m\u001b[0;34m.\u001b[0m\u001b[0madd_line\u001b[0m\u001b[0;34m(\u001b[0m\u001b[0mline\u001b[0m\u001b[0;34m)\u001b[0m\u001b[0;34m\u001b[0m\u001b[0;34m\u001b[0m\u001b[0m\n",
            "\u001b[0;32m/usr/local/lib/python3.9/dist-packages/matplotlib/axes/_base.py\u001b[0m in \u001b[0;36m__call__\u001b[0;34m(self, data, *args, **kwargs)\u001b[0m\n\u001b[1;32m    310\u001b[0m                 \u001b[0mthis\u001b[0m \u001b[0;34m+=\u001b[0m \u001b[0margs\u001b[0m\u001b[0;34m[\u001b[0m\u001b[0;36m0\u001b[0m\u001b[0;34m]\u001b[0m\u001b[0;34m,\u001b[0m\u001b[0;34m\u001b[0m\u001b[0;34m\u001b[0m\u001b[0m\n\u001b[1;32m    311\u001b[0m                 \u001b[0margs\u001b[0m \u001b[0;34m=\u001b[0m \u001b[0margs\u001b[0m\u001b[0;34m[\u001b[0m\u001b[0;36m1\u001b[0m\u001b[0;34m:\u001b[0m\u001b[0;34m]\u001b[0m\u001b[0;34m\u001b[0m\u001b[0;34m\u001b[0m\u001b[0m\n\u001b[0;32m--> 312\u001b[0;31m             \u001b[0;32myield\u001b[0m \u001b[0;32mfrom\u001b[0m \u001b[0mself\u001b[0m\u001b[0;34m.\u001b[0m\u001b[0m_plot_args\u001b[0m\u001b[0;34m(\u001b[0m\u001b[0mthis\u001b[0m\u001b[0;34m,\u001b[0m \u001b[0mkwargs\u001b[0m\u001b[0;34m)\u001b[0m\u001b[0;34m\u001b[0m\u001b[0;34m\u001b[0m\u001b[0m\n\u001b[0m\u001b[1;32m    313\u001b[0m \u001b[0;34m\u001b[0m\u001b[0m\n\u001b[1;32m    314\u001b[0m     \u001b[0;32mdef\u001b[0m \u001b[0mget_next_color\u001b[0m\u001b[0;34m(\u001b[0m\u001b[0mself\u001b[0m\u001b[0;34m)\u001b[0m\u001b[0;34m:\u001b[0m\u001b[0;34m\u001b[0m\u001b[0;34m\u001b[0m\u001b[0m\n",
            "\u001b[0;32m/usr/local/lib/python3.9/dist-packages/matplotlib/axes/_base.py\u001b[0m in \u001b[0;36m_plot_args\u001b[0;34m(self, tup, kwargs, return_kwargs)\u001b[0m\n\u001b[1;32m    496\u001b[0m \u001b[0;34m\u001b[0m\u001b[0m\n\u001b[1;32m    497\u001b[0m         \u001b[0;32mif\u001b[0m \u001b[0mx\u001b[0m\u001b[0;34m.\u001b[0m\u001b[0mshape\u001b[0m\u001b[0;34m[\u001b[0m\u001b[0;36m0\u001b[0m\u001b[0;34m]\u001b[0m \u001b[0;34m!=\u001b[0m \u001b[0my\u001b[0m\u001b[0;34m.\u001b[0m\u001b[0mshape\u001b[0m\u001b[0;34m[\u001b[0m\u001b[0;36m0\u001b[0m\u001b[0;34m]\u001b[0m\u001b[0;34m:\u001b[0m\u001b[0;34m\u001b[0m\u001b[0;34m\u001b[0m\u001b[0m\n\u001b[0;32m--> 498\u001b[0;31m             raise ValueError(f\"x and y must have same first dimension, but \"\n\u001b[0m\u001b[1;32m    499\u001b[0m                              f\"have shapes {x.shape} and {y.shape}\")\n\u001b[1;32m    500\u001b[0m         \u001b[0;32mif\u001b[0m \u001b[0mx\u001b[0m\u001b[0;34m.\u001b[0m\u001b[0mndim\u001b[0m \u001b[0;34m>\u001b[0m \u001b[0;36m2\u001b[0m \u001b[0;32mor\u001b[0m \u001b[0my\u001b[0m\u001b[0;34m.\u001b[0m\u001b[0mndim\u001b[0m \u001b[0;34m>\u001b[0m \u001b[0;36m2\u001b[0m\u001b[0;34m:\u001b[0m\u001b[0;34m\u001b[0m\u001b[0;34m\u001b[0m\u001b[0m\n",
            "\u001b[0;31mValueError\u001b[0m: x and y must have same first dimension, but have shapes (21,) and (16,)"
          ]
        },
        {
          "output_type": "display_data",
          "data": {
            "text/plain": [
              "<Figure size 720x360 with 1 Axes>"
            ],
            "image/png": "[encoded data removed]"
          },
          "metadata": {}
        }
      ],
      "source": [
        "with plt.style.context('seaborn-white'):\n",
        "    plt.figure(figsize=(10, 5))\n",
        "    plt.title('Accuracy of the classifier during the active learning')\n",
        "    plt.plot(range(n_queries+1), accuracy_scores)\n",
        "    plt.scatter(range(n_queries+1), accuracy_scores)\n",
        "    plt.xlabel('number of queries')\n",
        "    plt.ylabel('accuracy')\n",
        "    plt.show()"
      ]
    },
    {
      "cell_type": "code",
      "source": [],
      "metadata": {
        "id": "HS0ZFCWwGXus"
      },
      "execution_count": null,
      "outputs": []
    }
  ],
  "metadata": {
    "kernelspec": {
      "display_name": "Python 3",
      "language": "python",
      "name": "python3"
    },
    "language_info": {
      "codemirror_mode": {
        "name": "ipython",
        "version": 3
      },
      "file_extension": ".py",
      "mimetype": "text/x-python",
      "name": "python",
      "nbconvert_exporter": "python",
      "pygments_lexer": "ipython3",
      "version": "3.8.3"
    },
    "colab": {
      "provenance": []
    }
  },
  "nbformat": 4,
  "nbformat_minor": 0
}