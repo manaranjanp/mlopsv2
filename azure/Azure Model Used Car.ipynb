{
  "nbformat": 4,
  "nbformat_minor": 0,
  "metadata": {
    "colab": {
      "name": "Model Persistence Pickle 1.0.ipynb",
      "provenance": [],
      "collapsed_sections": []
    },
    "kernelspec": {
      "name": "python3",
      "display_name": "Python 3"
    },
    "language_info": {
      "name": "python"
    }
  },
  "cells": [
    {
      "cell_type": "markdown",
      "metadata": {
        "id": "3VBbPBFRCv2E"
      },
      "source": [
        "## Building and storing the file as pickle file"
      ]
    },
    {
      "cell_type": "code",
      "metadata": {
        "id": "c9gF4R9gFds_"
      },
      "source": [
        "import pandas as pd\n",
        "import numpy as np\n",
        "from sklearn.model_selection import train_test_split\n",
        "from sklearn.metrics import r2_score, mean_squared_error\n",
        "from sklearn.compose import ColumnTransformer\n",
        "from sklearn.pipeline import Pipeline\n",
        "from sklearn.impute import SimpleImputer\n",
        "from sklearn.preprocessing import StandardScaler, OneHotEncoder\n",
        "from sklearn.ensemble import RandomForestRegressor"
      ],
      "execution_count": null,
      "outputs": []
    },
    {
      "cell_type": "code",
      "metadata": {
        "colab": {
          "base_uri": "https://localhost:8080/",
          "height": 35
        },
        "id": "7k6teGK8ow9L",
        "outputId": "e6e557ac-0302-4908-fc49-ae9b28a70390"
      },
      "source": [
        "import sklearn\n",
        "sklearn.__version__"
      ],
      "execution_count": null,
      "outputs": [
        {
          "output_type": "execute_result",
          "data": {
            "application/vnd.google.colaboratory.intrinsic+json": {
              "type": "string"
            },
            "text/plain": [
              "'0.22.2.post1'"
            ]
          },
          "metadata": {},
          "execution_count": 26
        }
      ]
    },
    {
      "cell_type": "markdown",
      "metadata": {
        "id": "wH75ib_uC3Gc"
      },
      "source": [
        "## Loading the dataset: Used Car Price Prediction"
      ]
    },
    {
      "cell_type": "code",
      "metadata": {
        "id": "E2eCp6WPFjCQ"
      },
      "source": [
        "cars_df = pd.read_csv( \"https://drive.google.com/uc?export=download&id=1V_VBbyjGj6vvD0A90S5Lk0DG90djz28B\" )"
      ],
      "execution_count": null,
      "outputs": []
    },
    {
      "cell_type": "code",
      "metadata": {
        "colab": {
          "base_uri": "https://localhost:8080/",
          "height": 281
        },
        "id": "9w_Ywj6SFwrc",
        "outputId": "a4908b6d-3cae-4c10-de70-56677d68ac14"
      },
      "source": [
        "cars_df.head(5)"
      ],
      "execution_count": null,
      "outputs": [
        {
          "output_type": "execute_result",
          "data": {
            "text/html": [
              "<div>\n",
              "<style scoped>\n",
              "    .dataframe tbody tr th:only-of-type {\n",
              "        vertical-align: middle;\n",
              "    }\n",
              "\n",
              "    .dataframe tbody tr th {\n",
              "        vertical-align: top;\n",
              "    }\n",
              "\n",
              "    .dataframe thead th {\n",
              "        text-align: right;\n",
              "    }\n",
              "</style>\n",
              "<table border=\"1\" class=\"dataframe\">\n",
              "  <thead>\n",
              "    <tr style=\"text-align: right;\">\n",
              "      <th></th>\n",
              "      <th>Name</th>\n",
              "      <th>Location</th>\n",
              "      <th>Year</th>\n",
              "      <th>Kilometers_Driven</th>\n",
              "      <th>Fuel_Type</th>\n",
              "      <th>Transmission</th>\n",
              "      <th>Owner_Type</th>\n",
              "      <th>Mileage</th>\n",
              "      <th>Engine</th>\n",
              "      <th>Power</th>\n",
              "      <th>Seats</th>\n",
              "      <th>New_Price</th>\n",
              "      <th>Price</th>\n",
              "      <th>mileage_new</th>\n",
              "      <th>engine_new</th>\n",
              "      <th>power_new</th>\n",
              "      <th>age</th>\n",
              "      <th>make</th>\n",
              "      <th>model</th>\n",
              "      <th>KM_Driven</th>\n",
              "    </tr>\n",
              "  </thead>\n",
              "  <tbody>\n",
              "    <tr>\n",
              "      <th>0</th>\n",
              "      <td>Honda Jazz V</td>\n",
              "      <td>Chennai</td>\n",
              "      <td>2011</td>\n",
              "      <td>46000</td>\n",
              "      <td>Petrol</td>\n",
              "      <td>Manual</td>\n",
              "      <td>First</td>\n",
              "      <td>18.2 kmpl</td>\n",
              "      <td>1199 CC</td>\n",
              "      <td>88.7 bhp</td>\n",
              "      <td>5.0</td>\n",
              "      <td>8.61 Lakh</td>\n",
              "      <td>4.50</td>\n",
              "      <td>18.20</td>\n",
              "      <td>1199</td>\n",
              "      <td>88.70</td>\n",
              "      <td>9</td>\n",
              "      <td>honda</td>\n",
              "      <td>jazz</td>\n",
              "      <td>46</td>\n",
              "    </tr>\n",
              "    <tr>\n",
              "      <th>1</th>\n",
              "      <td>Maruti Ertiga VDI</td>\n",
              "      <td>Chennai</td>\n",
              "      <td>2012</td>\n",
              "      <td>87000</td>\n",
              "      <td>Diesel</td>\n",
              "      <td>Manual</td>\n",
              "      <td>First</td>\n",
              "      <td>20.77 kmpl</td>\n",
              "      <td>1248 CC</td>\n",
              "      <td>88.76 bhp</td>\n",
              "      <td>7.0</td>\n",
              "      <td>NaN</td>\n",
              "      <td>6.00</td>\n",
              "      <td>20.77</td>\n",
              "      <td>1248</td>\n",
              "      <td>88.76</td>\n",
              "      <td>8</td>\n",
              "      <td>maruti</td>\n",
              "      <td>ertiga</td>\n",
              "      <td>87</td>\n",
              "    </tr>\n",
              "    <tr>\n",
              "      <th>2</th>\n",
              "      <td>Nissan Micra Diesel XV</td>\n",
              "      <td>Jaipur</td>\n",
              "      <td>2013</td>\n",
              "      <td>86999</td>\n",
              "      <td>Diesel</td>\n",
              "      <td>Manual</td>\n",
              "      <td>First</td>\n",
              "      <td>23.08 kmpl</td>\n",
              "      <td>1461 CC</td>\n",
              "      <td>63.1 bhp</td>\n",
              "      <td>5.0</td>\n",
              "      <td>NaN</td>\n",
              "      <td>3.50</td>\n",
              "      <td>23.08</td>\n",
              "      <td>1461</td>\n",
              "      <td>63.10</td>\n",
              "      <td>7</td>\n",
              "      <td>nissan</td>\n",
              "      <td>micra</td>\n",
              "      <td>86</td>\n",
              "    </tr>\n",
              "    <tr>\n",
              "      <th>3</th>\n",
              "      <td>Tata Indica Vista Quadrajet LS</td>\n",
              "      <td>Chennai</td>\n",
              "      <td>2012</td>\n",
              "      <td>65932</td>\n",
              "      <td>Diesel</td>\n",
              "      <td>Manual</td>\n",
              "      <td>Second</td>\n",
              "      <td>22.3 kmpl</td>\n",
              "      <td>1248 CC</td>\n",
              "      <td>74 bhp</td>\n",
              "      <td>5.0</td>\n",
              "      <td>NaN</td>\n",
              "      <td>1.95</td>\n",
              "      <td>22.30</td>\n",
              "      <td>1248</td>\n",
              "      <td>74.00</td>\n",
              "      <td>8</td>\n",
              "      <td>tata</td>\n",
              "      <td>indica</td>\n",
              "      <td>65</td>\n",
              "    </tr>\n",
              "    <tr>\n",
              "      <th>4</th>\n",
              "      <td>Maruti Swift VDI BSIV</td>\n",
              "      <td>Jaipur</td>\n",
              "      <td>2015</td>\n",
              "      <td>64424</td>\n",
              "      <td>Diesel</td>\n",
              "      <td>Manual</td>\n",
              "      <td>First</td>\n",
              "      <td>25.2 kmpl</td>\n",
              "      <td>1248 CC</td>\n",
              "      <td>74 bhp</td>\n",
              "      <td>5.0</td>\n",
              "      <td>NaN</td>\n",
              "      <td>5.60</td>\n",
              "      <td>25.20</td>\n",
              "      <td>1248</td>\n",
              "      <td>74.00</td>\n",
              "      <td>5</td>\n",
              "      <td>maruti</td>\n",
              "      <td>swift</td>\n",
              "      <td>64</td>\n",
              "    </tr>\n",
              "  </tbody>\n",
              "</table>\n",
              "</div>"
            ],
            "text/plain": [
              "                             Name Location  Year  ...    make   model KM_Driven\n",
              "0                    Honda Jazz V  Chennai  2011  ...   honda    jazz        46\n",
              "1               Maruti Ertiga VDI  Chennai  2012  ...  maruti  ertiga        87\n",
              "2          Nissan Micra Diesel XV   Jaipur  2013  ...  nissan   micra        86\n",
              "3  Tata Indica Vista Quadrajet LS  Chennai  2012  ...    tata  indica        65\n",
              "4           Maruti Swift VDI BSIV   Jaipur  2015  ...  maruti   swift        64\n",
              "\n",
              "[5 rows x 20 columns]"
            ]
          },
          "metadata": {},
          "execution_count": 4
        }
      ]
    },
    {
      "cell_type": "code",
      "metadata": {
        "id": "sehIIbSBFnD1"
      },
      "source": [
        "x_columns = ['KM_Driven', 'Fuel_Type', 'age',\n",
        "              'Transmission', 'Owner_Type', 'Seats',\n",
        "              'make', 'mileage_new', 'engine_new', 'model',\n",
        "              'power_new', 'Location']\n",
        "## model of the car is not included in the model"
      ],
      "execution_count": null,
      "outputs": []
    },
    {
      "cell_type": "code",
      "metadata": {
        "colab": {
          "base_uri": "https://localhost:8080/"
        },
        "id": "-JteBYVPShF3",
        "outputId": "8f26fc0f-3a5e-4956-b58f-8f07ae38cb92"
      },
      "source": [
        "cars_df.shape"
      ],
      "execution_count": null,
      "outputs": [
        {
          "output_type": "execute_result",
          "data": {
            "text/plain": [
              "(3092, 20)"
            ]
          },
          "metadata": {},
          "execution_count": 6
        }
      ]
    },
    {
      "cell_type": "code",
      "metadata": {
        "id": "pVC9f4QISa2h"
      },
      "source": [
        "cars_df = cars_df[x_columns + ['Price']].dropna()"
      ],
      "execution_count": null,
      "outputs": []
    },
    {
      "cell_type": "code",
      "metadata": {
        "colab": {
          "base_uri": "https://localhost:8080/"
        },
        "id": "l_bULZE0SjBf",
        "outputId": "87c69daa-dceb-4e87-a73d-f60eb7c20eb7"
      },
      "source": [
        "cars_df.shape"
      ],
      "execution_count": null,
      "outputs": [
        {
          "output_type": "execute_result",
          "data": {
            "text/plain": [
              "(3091, 13)"
            ]
          },
          "metadata": {},
          "execution_count": 8
        }
      ]
    },
    {
      "cell_type": "markdown",
      "metadata": {
        "id": "pJxhn2VxDAdG"
      },
      "source": [
        "## Identifying numerical and categorical features"
      ]
    },
    {
      "cell_type": "code",
      "metadata": {
        "id": "PuezADwYFsWd"
      },
      "source": [
        "cat_features = ['Fuel_Type',\n",
        "                'Transmission', 'Owner_Type', 'model',\n",
        "                'make', 'Location']"
      ],
      "execution_count": null,
      "outputs": []
    },
    {
      "cell_type": "code",
      "metadata": {
        "id": "IyzKKTogFs_l"
      },
      "source": [
        "num_features = list(set(x_columns) - set(cat_features))"
      ],
      "execution_count": null,
      "outputs": []
    },
    {
      "cell_type": "markdown",
      "metadata": {
        "id": "4tyTBzVVDDrX"
      },
      "source": [
        "## Split the dataset"
      ]
    },
    {
      "cell_type": "code",
      "metadata": {
        "id": "-ZXkTZdAkjFT"
      },
      "source": [
        "x_train, x_test, y_train, y_test = train_test_split(cars_df[x_columns],\n",
        "                                                    cars_df.Price,\n",
        "                                                    train_size = 0.8,\n",
        "                                                    random_state = 100)"
      ],
      "execution_count": null,
      "outputs": []
    },
    {
      "cell_type": "markdown",
      "metadata": {
        "id": "ZJBs5b9MDGXr"
      },
      "source": [
        "## Creating the pipeline for the deployment"
      ]
    },
    {
      "cell_type": "code",
      "metadata": {
        "id": "hj4QG6V7dZHd"
      },
      "source": [
        "numeric_transformer = Pipeline(steps=[('scaler', StandardScaler())])\n",
        "\n",
        "categorical_transformer = Pipeline(steps=[('onehot', \n",
        "                                           OneHotEncoder(handle_unknown='ignore'))])\n",
        "\n",
        "preprocessor = ColumnTransformer(\n",
        "    transformers=[\n",
        "        ('num', numeric_transformer, num_features),                  \n",
        "        ('cat', categorical_transformer, cat_features),\n",
        "    ])\n",
        "\n",
        "params = { \"n_estimators\": 400,\n",
        "           \"max_depth\": 4 }\n",
        "\n",
        "rf_regressor = RandomForestRegressor(**params)\n",
        "\n",
        "reg = Pipeline(steps=[('preprocessor', preprocessor),\n",
        "                      ('regressor', rf_regressor)])           \n",
        "\n",
        "reg.fit(x_train, \n",
        "        y_train)\n",
        "\n",
        "rmse = np.sqrt(mean_squared_error(y_test, \n",
        "                                  reg.predict(x_test)))"
      ],
      "execution_count": null,
      "outputs": []
    },
    {
      "cell_type": "code",
      "metadata": {
        "colab": {
          "base_uri": "https://localhost:8080/"
        },
        "id": "_sgMnRCllduv",
        "outputId": "ade741b2-d216-4498-d391-ec71d697faaf"
      },
      "source": [
        "print(rmse)"
      ],
      "execution_count": null,
      "outputs": [
        {
          "output_type": "stream",
          "name": "stdout",
          "text": [
            "0.6096850479179529\n"
          ]
        }
      ]
    },
    {
      "cell_type": "markdown",
      "metadata": {
        "id": "GinsWuBFaNoi"
      },
      "source": [
        "## Creating Pickel File and Storing it"
      ]
    },
    {
      "cell_type": "code",
      "metadata": {
        "id": "g8yRa4zLcvnx"
      },
      "source": [
        "class CarPredictionModel():\n",
        "    \n",
        "    def __init__(self, pipeline, all_features, cat_features, num_features, rmse):\n",
        "        self.pipeline = pipeline\n",
        "        self.all_features = all_features\n",
        "        self.cat_features = cat_features\n",
        "        self.num_features = num_features\n",
        "        self.rmse = rmse"
      ],
      "execution_count": null,
      "outputs": []
    },
    {
      "cell_type": "code",
      "metadata": {
        "id": "TdsS1tVTdOx9"
      },
      "source": [
        "car_model = CarPredictionModel(reg, x_columns, cat_features, num_features, rmse)"
      ],
      "execution_count": null,
      "outputs": []
    },
    {
      "cell_type": "code",
      "metadata": {
        "id": "XLB8MUnmaNBJ"
      },
      "source": [
        "from joblib import dump, load"
      ],
      "execution_count": null,
      "outputs": []
    },
    {
      "cell_type": "code",
      "metadata": {
        "colab": {
          "base_uri": "https://localhost:8080/"
        },
        "id": "t_VVLIJ1ddSb",
        "outputId": "4280441d-8d77-4c09-a20e-90a978e1b41e"
      },
      "source": [
        "dump(car_model, \"carmodel.pkl\")"
      ],
      "execution_count": null,
      "outputs": [
        {
          "output_type": "execute_result",
          "data": {
            "text/plain": [
              "['carmodel.pkl']"
            ]
          },
          "metadata": {},
          "execution_count": 18
        }
      ]
    },
    {
      "cell_type": "code",
      "metadata": {
        "id": "a377wlaAdmHa"
      },
      "source": [
        "loaded_car_model = load(\"carmodel.pkl\")"
      ],
      "execution_count": null,
      "outputs": []
    },
    {
      "cell_type": "code",
      "metadata": {
        "colab": {
          "base_uri": "https://localhost:8080/"
        },
        "id": "-jlM956cdtsB",
        "outputId": "aeaea1ca-c70f-4706-891a-70025a500871"
      },
      "source": [
        "loaded_car_model.pipeline.predict(x_test[0:1])"
      ],
      "execution_count": null,
      "outputs": [
        {
          "output_type": "execute_result",
          "data": {
            "text/plain": [
              "array([2.7118423], dtype=float32)"
            ]
          },
          "metadata": {},
          "execution_count": 23
        }
      ]
    }
  ]
}